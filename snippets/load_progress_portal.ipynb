{
 "cells": [
  {
   "cell_type": "code",
   "execution_count": 3,
   "metadata": {},
   "outputs": [],
   "source": [
    "import pandas as pd\n",
    "import requests\n",
    "import ckanapi\n",
    "import math"
   ]
  },
  {
   "cell_type": "code",
   "execution_count": 4,
   "metadata": {},
   "outputs": [],
   "source": [
    "mapping = {\n",
    "    \"id\": \"measure_id\",\n",
    "    \"m\": \"measure_name\",\n",
    "    \"it\": \"interval_type\",\n",
    "    \"vt\": \"value_type\",\n",
    "    \"ytd\": \"year_to_date_ind\",\n",
    "    \"ht\": \"has_target_ind\",\n",
    "    \"v\": \"variance\",\n",
    "    \"yv\": \"year_to_date_variance\",\n",
    "    \"bv\": \"budget_variance\",\n",
    "    \"da\": \"decimal_accuracy\", # should this be precision?\n",
    "    \"dd\": \"desired_direction\",\n",
    "    \"c\": \"category\",\n",
    "    \"ds\":\"data_source_notes\",\n",
    "    \"cp\": \"city_perspective_note\",\n",
    "    \"y\": \"year\",\n",
    "    \"p\": \"period_number_in_year\",\n",
    "    \"v\": \"measure_value\",\n",
    "    \"target\":\"target\",\n",
    "    \"notes\":\"notes\",\n",
    "    \"c\": \"category\",\n",
    "    \"kw\": \"keywords\",\n",
    "}\n",
    "\n",
    "def get_category_measures(measures, category):\n",
    "    subset = []\n",
    "    for m in measures:\n",
    "        assert len(m[\"c\"]) == 1, f\"Measure has more than 1 category: {m['c']}\"\n",
    "        if m[\"c\"][0].lower() == category.lower():\n",
    "            subset.append(m)\n",
    "            \n",
    "    return subset\n",
    "\n",
    "\n",
    "def make_measures_records(measures):\n",
    "    records = []\n",
    "    \n",
    "    for i in measures:\n",
    "        item = { **i }\n",
    "        data_points = item.pop(\"vs\")\n",
    "        \n",
    "        assert len(i[\"c\"]) == 1, f\"Item '{i['m']}' ({i['id']}) belongs to more than 1 category: {item['c']}\"\n",
    "        \n",
    "        item[\"c\"] = item[\"c\"][0]\n",
    "        \n",
    "        for dp in data_points:\n",
    "            r = { k: v for k, v in {**item, **dp}.items() if v }\n",
    "            r[\"m\"] = r[\"m\"].replace(\"\\n\", \" \")\n",
    "            r[\"ds\"] = r[\"ds\"].replace(\"&amp;\", \"&\")\n",
    "            r[\"ytd\"] = r[\"ytd\"].lower() == \"true\"\n",
    "            r[\"ht\"] = r[\"ht\"].lower() == \"true\"\n",
    "            if \"da\" in r:\n",
    "                r[\"da\"] = int(r[\"da\"])\n",
    "            if \"yv\" in r:\n",
    "                r[\"yv\"] = float(r[\"yv\"])\n",
    "            if \"bv\" in r:\n",
    "                r[\"bv\"] = float(r[\"bv\"])\n",
    "            \n",
    "            for original,updated in mapping.items():\n",
    "                if original in r:\n",
    "                    r[updated] = r.pop(original)\n",
    "\n",
    "            records.append(r)\n",
    "            \n",
    "    return records\n",
    "\n",
    "def join_narratives(records, narratives):\n",
    "    new_records = []\n",
    "    \n",
    "    for record in records:\n",
    "        r = {**record}\n",
    "        \n",
    "        n = narratives.get(f'{r[mapping[\"id\"]]}')\n",
    "        if n is not None and len(n)>1:\n",
    "            r[\"notes\"] = n.replace(\"<br />\", \"\\n\").strip(\"\\n\").strip()\n",
    "            \n",
    "        new_records.append(r)\n",
    "    \n",
    "    return new_records\n",
    "\n",
    "\n",
    "def build_data_dict():\n",
    "    data_dict = []\n",
    "    \n",
    "    for m in mapping.values():\n",
    "        data_dict.append({\n",
    "            \"id\": m,\n",
    "            \"type\": \"text\",\n",
    "        })\n",
    "        \n",
    "    for c in data_dict:\n",
    "        if c[\"id\"] in [\"measure_id\", \"year_to_date_variance\", \"budget_variance\", \"measure_value\",\"target\"]:\n",
    "            c[\"type\"] = \"float\"\n",
    "        elif c[\"id\"] in [\"year_to_date_ind\", \"has_target_ind\"]:\n",
    "            c[\"type\"] = \"boolean\"\n",
    "        elif c[\"id\"] in [\"decimal_accuracy\", \"year\", \"period_number_in_year\"]:\n",
    "            c[\"type\"] = \"int\"\n",
    "\n",
    "        \n",
    "    return  data_dict"
   ]
  },
  {
   "cell_type": "code",
   "execution_count": 5,
   "metadata": {},
   "outputs": [],
   "source": [
    "measures = requests.get(\"https://contrib.wp.intra.prod-toronto.ca/app_content/tpp_measures/\").json()\n",
    "notes = requests.get(\"https://contrib.wp.intra.prod-toronto.ca/app_content/tpp_narratives/\").json()\n",
    "\n",
    "tmp_records = make_measures_records(measures[\"measures\"])\n",
    "records = join_narratives(tmp_records, notes)\n",
    "fields = build_data_dict()"
   ]
  },
  {
   "cell_type": "code",
   "execution_count": 6,
   "metadata": {},
   "outputs": [],
   "source": [
    "targets=measures[\"targets\"][0]\n",
    "df_target = pd.DataFrame()\n",
    "for k, v in targets.items():\n",
    "    df = pd.DataFrame(v)\n",
    "    df[\"measure_id\"] = float(k)\n",
    "    df_target = df_target.append (df.rename(columns={\"v\":\"target\", \"p\":\"period_number_in_year\", \"y\":\"year\"}))\n",
    "df_measure = pd.DataFrame(records)\n",
    "df_measure_target = pd.merge(df_measure,df_target, how='left', on=['measure_id', 'year', 'period_number_in_year'])"
   ]
  },
  {
   "cell_type": "code",
   "execution_count": 7,
   "metadata": {},
   "outputs": [
    {
     "output_type": "stream",
     "name": "stdout",
     "text": [
      "total target number: 774 \nmacthed: 750\n"
     ]
    }
   ],
   "source": [
    "df_measure_with_target = df_measure_target[df_measure_target['target'] == df_measure_target['target']][['measure_id', 'year', 'period_number_in_year','target']]\n",
    "df_measure_with_target['matched']=True\n",
    "print('total target number:', len(df_target), '\\nmacthed:', len(df_measure_with_target))"
   ]
  },
  {
   "cell_type": "code",
   "execution_count": 7,
   "metadata": {},
   "outputs": [],
   "source": [
    "compare_df = pd.merge(df_target[['measure_id', 'year', 'period_number_in_year','target']], df_measure_with_target, how='left', on=['measure_id', 'year', 'period_number_in_year'])"
   ]
  },
  {
   "cell_type": "code",
   "execution_count": 8,
   "metadata": {},
   "outputs": [
    {
     "output_type": "execute_result",
     "data": {
      "text/plain": [
       "     measure_id  year  period_number_in_year     target_x  target_y matched\n",
       "399        2.12  2020                     10  63526731.00       NaN     NaN\n",
       "400        2.12  2020                     11  67280274.00       NaN     NaN\n",
       "401        2.12  2020                     12  64429309.00       NaN     NaN\n",
       "537        2.17  2021                      4    712895.00       NaN     NaN\n",
       "538        2.17  2021                      5    664891.00       NaN     NaN\n",
       "539        2.17  2021                      6    739639.00       NaN     NaN\n",
       "540        2.17  2021                      7    733744.00       NaN     NaN\n",
       "541        2.17  2021                      8    645728.00       NaN     NaN\n",
       "542        2.17  2021                      9    742224.00       NaN     NaN\n",
       "543        2.17  2021                     10    710018.00       NaN     NaN\n",
       "544        2.17  2021                     11    691607.00       NaN     NaN\n",
       "545        2.17  2021                     12    721560.00       NaN     NaN\n",
       "627        2.40  2021                      2    718290.52       NaN     NaN\n",
       "628        2.40  2021                      3   2300000.00       NaN     NaN\n",
       "629        2.40  2021                      4   2450000.00       NaN     NaN\n",
       "675        2.41  2021                      2    329341.05       NaN     NaN\n",
       "676        2.41  2021                      3    985000.00       NaN     NaN\n",
       "677        2.41  2021                      4   1150000.00       NaN     NaN\n",
       "723        2.42  2021                      2    250000.00       NaN     NaN\n",
       "724        2.42  2021                      3    900000.00       NaN     NaN\n",
       "725        2.42  2021                      4   1100000.00       NaN     NaN\n",
       "771        2.43  2021                      2   5875873.00       NaN     NaN\n",
       "772        2.43  2021                      3   6307476.00       NaN     NaN\n",
       "773        2.43  2021                      4   6444270.00       NaN     NaN"
      ],
      "text/html": "<div>\n<style scoped>\n    .dataframe tbody tr th:only-of-type {\n        vertical-align: middle;\n    }\n\n    .dataframe tbody tr th {\n        vertical-align: top;\n    }\n\n    .dataframe thead th {\n        text-align: right;\n    }\n</style>\n<table border=\"1\" class=\"dataframe\">\n  <thead>\n    <tr style=\"text-align: right;\">\n      <th></th>\n      <th>measure_id</th>\n      <th>year</th>\n      <th>period_number_in_year</th>\n      <th>target_x</th>\n      <th>target_y</th>\n      <th>matched</th>\n    </tr>\n  </thead>\n  <tbody>\n    <tr>\n      <th>399</th>\n      <td>2.12</td>\n      <td>2020</td>\n      <td>10</td>\n      <td>63526731.00</td>\n      <td>NaN</td>\n      <td>NaN</td>\n    </tr>\n    <tr>\n      <th>400</th>\n      <td>2.12</td>\n      <td>2020</td>\n      <td>11</td>\n      <td>67280274.00</td>\n      <td>NaN</td>\n      <td>NaN</td>\n    </tr>\n    <tr>\n      <th>401</th>\n      <td>2.12</td>\n      <td>2020</td>\n      <td>12</td>\n      <td>64429309.00</td>\n      <td>NaN</td>\n      <td>NaN</td>\n    </tr>\n    <tr>\n      <th>537</th>\n      <td>2.17</td>\n      <td>2021</td>\n      <td>4</td>\n      <td>712895.00</td>\n      <td>NaN</td>\n      <td>NaN</td>\n    </tr>\n    <tr>\n      <th>538</th>\n      <td>2.17</td>\n      <td>2021</td>\n      <td>5</td>\n      <td>664891.00</td>\n      <td>NaN</td>\n      <td>NaN</td>\n    </tr>\n    <tr>\n      <th>539</th>\n      <td>2.17</td>\n      <td>2021</td>\n      <td>6</td>\n      <td>739639.00</td>\n      <td>NaN</td>\n      <td>NaN</td>\n    </tr>\n    <tr>\n      <th>540</th>\n      <td>2.17</td>\n      <td>2021</td>\n      <td>7</td>\n      <td>733744.00</td>\n      <td>NaN</td>\n      <td>NaN</td>\n    </tr>\n    <tr>\n      <th>541</th>\n      <td>2.17</td>\n      <td>2021</td>\n      <td>8</td>\n      <td>645728.00</td>\n      <td>NaN</td>\n      <td>NaN</td>\n    </tr>\n    <tr>\n      <th>542</th>\n      <td>2.17</td>\n      <td>2021</td>\n      <td>9</td>\n      <td>742224.00</td>\n      <td>NaN</td>\n      <td>NaN</td>\n    </tr>\n    <tr>\n      <th>543</th>\n      <td>2.17</td>\n      <td>2021</td>\n      <td>10</td>\n      <td>710018.00</td>\n      <td>NaN</td>\n      <td>NaN</td>\n    </tr>\n    <tr>\n      <th>544</th>\n      <td>2.17</td>\n      <td>2021</td>\n      <td>11</td>\n      <td>691607.00</td>\n      <td>NaN</td>\n      <td>NaN</td>\n    </tr>\n    <tr>\n      <th>545</th>\n      <td>2.17</td>\n      <td>2021</td>\n      <td>12</td>\n      <td>721560.00</td>\n      <td>NaN</td>\n      <td>NaN</td>\n    </tr>\n    <tr>\n      <th>627</th>\n      <td>2.40</td>\n      <td>2021</td>\n      <td>2</td>\n      <td>718290.52</td>\n      <td>NaN</td>\n      <td>NaN</td>\n    </tr>\n    <tr>\n      <th>628</th>\n      <td>2.40</td>\n      <td>2021</td>\n      <td>3</td>\n      <td>2300000.00</td>\n      <td>NaN</td>\n      <td>NaN</td>\n    </tr>\n    <tr>\n      <th>629</th>\n      <td>2.40</td>\n      <td>2021</td>\n      <td>4</td>\n      <td>2450000.00</td>\n      <td>NaN</td>\n      <td>NaN</td>\n    </tr>\n    <tr>\n      <th>675</th>\n      <td>2.41</td>\n      <td>2021</td>\n      <td>2</td>\n      <td>329341.05</td>\n      <td>NaN</td>\n      <td>NaN</td>\n    </tr>\n    <tr>\n      <th>676</th>\n      <td>2.41</td>\n      <td>2021</td>\n      <td>3</td>\n      <td>985000.00</td>\n      <td>NaN</td>\n      <td>NaN</td>\n    </tr>\n    <tr>\n      <th>677</th>\n      <td>2.41</td>\n      <td>2021</td>\n      <td>4</td>\n      <td>1150000.00</td>\n      <td>NaN</td>\n      <td>NaN</td>\n    </tr>\n    <tr>\n      <th>723</th>\n      <td>2.42</td>\n      <td>2021</td>\n      <td>2</td>\n      <td>250000.00</td>\n      <td>NaN</td>\n      <td>NaN</td>\n    </tr>\n    <tr>\n      <th>724</th>\n      <td>2.42</td>\n      <td>2021</td>\n      <td>3</td>\n      <td>900000.00</td>\n      <td>NaN</td>\n      <td>NaN</td>\n    </tr>\n    <tr>\n      <th>725</th>\n      <td>2.42</td>\n      <td>2021</td>\n      <td>4</td>\n      <td>1100000.00</td>\n      <td>NaN</td>\n      <td>NaN</td>\n    </tr>\n    <tr>\n      <th>771</th>\n      <td>2.43</td>\n      <td>2021</td>\n      <td>2</td>\n      <td>5875873.00</td>\n      <td>NaN</td>\n      <td>NaN</td>\n    </tr>\n    <tr>\n      <th>772</th>\n      <td>2.43</td>\n      <td>2021</td>\n      <td>3</td>\n      <td>6307476.00</td>\n      <td>NaN</td>\n      <td>NaN</td>\n    </tr>\n    <tr>\n      <th>773</th>\n      <td>2.43</td>\n      <td>2021</td>\n      <td>4</td>\n      <td>6444270.00</td>\n      <td>NaN</td>\n      <td>NaN</td>\n    </tr>\n  </tbody>\n</table>\n</div>"
     },
     "metadata": {},
     "execution_count": 8
    }
   ],
   "source": [
    "compare_df[compare_df['matched'] != True]"
   ]
  },
  {
   "cell_type": "code",
   "execution_count": 9,
   "metadata": {},
   "outputs": [
    {
     "output_type": "execute_result",
     "data": {
      "text/plain": [
       "Empty DataFrame\n",
       "Columns: [measure_id, measure_name, interval_type, value_type, year_to_date_ind, has_target_ind, measure_value, year_to_date_variance, desired_direction, category, data_source_notes, year, period_number_in_year, keywords, notes, decimal_accuracy, city_perspective_note, budget_variance]\n",
       "Index: []"
      ],
      "text/html": "<div>\n<style scoped>\n    .dataframe tbody tr th:only-of-type {\n        vertical-align: middle;\n    }\n\n    .dataframe tbody tr th {\n        vertical-align: top;\n    }\n\n    .dataframe thead th {\n        text-align: right;\n    }\n</style>\n<table border=\"1\" class=\"dataframe\">\n  <thead>\n    <tr style=\"text-align: right;\">\n      <th></th>\n      <th>measure_id</th>\n      <th>measure_name</th>\n      <th>interval_type</th>\n      <th>value_type</th>\n      <th>year_to_date_ind</th>\n      <th>has_target_ind</th>\n      <th>measure_value</th>\n      <th>year_to_date_variance</th>\n      <th>desired_direction</th>\n      <th>category</th>\n      <th>data_source_notes</th>\n      <th>year</th>\n      <th>period_number_in_year</th>\n      <th>keywords</th>\n      <th>notes</th>\n      <th>decimal_accuracy</th>\n      <th>city_perspective_note</th>\n      <th>budget_variance</th>\n    </tr>\n  </thead>\n  <tbody>\n  </tbody>\n</table>\n</div>"
     },
     "metadata": {},
     "execution_count": 9
    }
   ],
   "source": [
    "#verify some target \n",
    "df_measure[(df_measure['measure_id']==2.12) & (df_measure['year']==2020) & (df_measure['period_number_in_year']==12)]"
   ]
  },
  {
   "cell_type": "code",
   "execution_count": 8,
   "metadata": {},
   "outputs": [],
   "source": [
    "ckan = ckanapi.RemoteCKAN(\n",
    "    address=\"https://ckanadmin0.intra.qa-toronto.ca/\",\n",
    "    apikey='',\n",
    ")"
   ]
  },
  {
   "cell_type": "code",
   "execution_count": 31,
   "metadata": {},
   "outputs": [],
   "source": [
    "# find target package and resource and purge content, otherwise create resource\n",
    "package_name='toronto-progress-portal'\n",
    "res_name='Toronto progress portal - Key metrics'\n",
    "res_id=None\n",
    "\n",
    "try:\n",
    "    package=ckan.action.package_show(id=package_name)\n",
    "    resources=package.pop('resources')\n",
    "    # find datastore resource with same name and delete data\n",
    "    for r1 in resources:\n",
    "        if r1['name']==res_name: # and r1['datastore_active']:\n",
    "            res_id = r1['id']\n",
    "            ckan.action.datastore_delete(id=res_id, filters={}, force=True)\n",
    "            ckan.action.resource_patch(id=res_id, datastore_active=True, is_preview=True)\n",
    "            break\n",
    "except:\n",
    "    print('Error finding package')\n",
    "\n",
    "if not res_id:\n",
    "    try:\n",
    "        r = {'package_id': package['id'], 'format': 'CSV', 'extract_job': 'Python-progress','name': res_name, 'datastore_active': True,'is_preview': True}\n",
    "        res = ckan.action.datastore_create( resource=r, fields=fields, primary_key='measure_id,year,period_number_in_year', force=True)\n",
    "        res_id = res['resource_id']\n",
    "    except:\n",
    "        print('Error creating resource')"
   ]
  },
  {
   "cell_type": "code",
   "execution_count": 32,
   "metadata": {},
   "outputs": [
    {
     "output_type": "execute_result",
     "data": {
      "text/plain": [
       "'17274ffd-9f64-4931-82e5-4b31675bf0e3'"
      ]
     },
     "metadata": {},
     "execution_count": 32
    }
   ],
   "source": [
    "res_id"
   ]
  },
  {
   "cell_type": "code",
   "execution_count": 33,
   "metadata": {},
   "outputs": [
    {
     "output_type": "stream",
     "name": "stdout",
     "text": [
      "Try: 0 1000\n",
      "Try: 1000 2000\n",
      "Try: 2000 3000\n",
      "Try: 3000 4000\n",
      "Try: 4000 5000\n",
      "Try: 5000 6000\n",
      "Try: 6000 7000\n",
      "Try: 7000 8000\n",
      "Try: 8000 9000\n",
      "Data loading completed: 8286\n"
     ]
    }
   ],
   "source": [
    "i=0\n",
    "while i < len(df_measure_target):\n",
    "    rec=[ { k:v for k,v in r.items() if v == v } for r in df_measure_target[i:i+1000].to_dict(orient=\"records\") ]\n",
    "    try:\n",
    "        print('Try:',i,i+1000)\n",
    "        progress_insert=ckan.action.datastore_upsert(id=res_id, records=rec, force=True, method='insert')\n",
    "    except Exception as e:\n",
    "        print('Something is wrong:', e)\n",
    "        break\n",
    "    i=i+1000\n",
    "\n",
    "if i >= len(df_measure_target):\n",
    "    print('Data loading completed:', len(df_measure_target))\n",
    "else:\n",
    "    print('Data loading aborted')"
   ]
  },
  {
   "cell_type": "code",
   "execution_count": null,
   "metadata": {},
   "outputs": [],
   "source": [
    "# data from Pandas DataFrame df\n",
    "with_nans = df.to_dict(orient=\"records\")\n",
    "​\n",
    "# since np.nan != np.nan, can use it to filter. Essentially, knowing that the type is NOT a number doesn't mean both types ARE THE SAME non-number type.\n",
    "​\n",
    "# ALTERNATIVE 1: create new list of records without NaNs using dictionary comprehension\n",
    "without_nans = []\n",
    "for r in with_nans:\n",
    "\tnew_record = { k:v for k,v in r.items() if v == v }\n",
    "    without_nans.append(new_record)\n",
    "    \n",
    "# ALTERNATIVE 2: can take it a step further by combining with list comprehension\n",
    "without_nans = [ { k:v for k,v in r.items() if v == v } for r in with_nans ]\n",
    "​\n",
    "# ALTERNATIVE 3: can put it all in one line\n",
    "without_nans = [ { k:v for k,v in r.items() if v == v } for r in df.to_dict(orient=\"records\") ]"
   ]
  },
  {
   "cell_type": "code",
   "execution_count": 30,
   "metadata": {},
   "outputs": [],
   "source": [
    "# ckan.action.datastore_delete(id=res_id,filters={},force=True)"
   ]
  },
  {
   "cell_type": "code",
   "execution_count": 29,
   "metadata": {},
   "outputs": [],
   "source": [
    "# ckan.action.resource_patch(id=res_id, datastore_active=True, is_preview=True)"
   ]
  }
 ],
 "metadata": {
  "kernelspec": {
   "name": "python372jvsc74a57bd06c97748df67d7663c28fd6ba6790c46b89906412ba0f523cca8cdfdbc5008d42",
   "display_name": "Python 3.7.2 64-bit ('CKAN': conda)"
  },
  "language_info": {
   "codemirror_mode": {
    "name": "ipython",
    "version": 3
   },
   "file_extension": ".py",
   "mimetype": "text/x-python",
   "name": "python",
   "nbconvert_exporter": "python",
   "pygments_lexer": "ipython3",
   "version": "3.7.2"
  }
 },
 "nbformat": 4,
 "nbformat_minor": 4
}