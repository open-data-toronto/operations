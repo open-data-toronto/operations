{
 "cells": [
  {
   "cell_type": "code",
   "execution_count": 1,
   "metadata": {},
   "outputs": [],
   "source": [
    "import pandas as pd\n",
    "import requests\n",
    "import ckanapi\n",
    "import math\n",
    "import re\n",
    "import os\n",
    "import json\n"
   ]
  },
  {
   "cell_type": "code",
   "execution_count": 2,
   "metadata": {},
   "outputs": [],
   "source": [
    "mapping = {\n",
    "    \"id\": \"measure_id\",\n",
    "    \"m\": \"measure_name\",\n",
    "    \"it\": \"interval_type\",\n",
    "    \"vt\": \"value_type\",\n",
    "    # \"ytd\": \"year_to_date_ind\",\n",
    "    # \"ht\": \"has_target_ind\",\n",
    "    \"v\": \"variance\",\n",
    "    \"yv\": \"year_to_date_variance\",\n",
    "    \"bv\": \"budget_variance\",\n",
    "    \"da\": \"decimal_accuracy\", # should this be precision?\n",
    "    \"dd\": \"desired_direction\",\n",
    "    \"c\": \"category\",\n",
    "    \"ds\":\"data_source_notes\",\n",
    "    \"cp\": \"city_perspective_note\",\n",
    "    \"y\": \"year\",\n",
    "    \"p\": \"period_number_in_year\",\n",
    "    \"v\": \"measure_value\",\n",
    "    \"target\":\"target\",\n",
    "    \"note\":\"note\",\n",
    "    \"c\": \"category\",\n",
    "    # \"kw\": \"keywords\",\n",
    "}\n",
    "\n",
    "def get_category_measures(measures, category):\n",
    "    subset = []\n",
    "    for m in measures:\n",
    "        assert len(m[\"c\"]) == 1, f\"Measure has more than 1 category: {m['c']}\"\n",
    "        if m[\"c\"][0].lower() == category.lower():\n",
    "            subset.append(m)\n",
    "            \n",
    "    return subset\n",
    "\n",
    "\n",
    "def make_measures_records(measures):\n",
    "    records = []\n",
    "    \n",
    "    for i in measures:\n",
    "        item = { **i }\n",
    "        data_points = item.pop(\"vs\")\n",
    "        \n",
    "        assert len(i[\"c\"]) == 1, f\"Item '{i['m']}' ({i['id']}) belongs to more than 1 category: {item['c']}\"\n",
    "        \n",
    "        item[\"c\"] = item[\"c\"][0]\n",
    "        \n",
    "        for dp in data_points:\n",
    "            r = { k: v for k, v in {**item, **dp}.items() if v == v }\n",
    "            r[\"m\"] = r[\"m\"].replace(\"\\n\", \" \")\n",
    "            r[\"ds\"] = r[\"ds\"].replace(\"&amp;\", \"&\")\n",
    "            r.pop(\"ytd\")\n",
    "            r.pop(\"ht\")\n",
    "            r.pop(\"kw\")\n",
    "            if \"da\" in r:\n",
    "                try:\n",
    "                    r[\"da\"] = int(r[\"da\"])\n",
    "                except:\n",
    "                    r.pop(\"da\")\n",
    "            if \"yv\" in r:\n",
    "                try:\n",
    "                    r[\"yv\"] = float(r[\"yv\"])\n",
    "                except:\n",
    "                    r.pop(\"yv\")\n",
    "            if \"bv\" in r:\n",
    "                try:\n",
    "                    r[\"bv\"] = float(r[\"bv\"])\n",
    "                except:\n",
    "                    r.pop(\"bv\")\n",
    "            \n",
    "            for original,updated in mapping.items():\n",
    "                if original in r:\n",
    "                    r[updated] = r.pop(original)\n",
    "\n",
    "            records.append(r)\n",
    "            \n",
    "    return records\n",
    "\n",
    "def join_narratives(records, narratives):\n",
    "    new_records = []\n",
    "    \n",
    "    for record in records:\n",
    "        r = {**record}\n",
    "        \n",
    "        n = narratives.get(f'{r[mapping[\"id\"]]}')\n",
    "        if n is not None and len(n)>1:\n",
    "            r[\"notes\"] = n.replace(\"<br />\", \"\\n\").strip(\"\\n\").strip()\n",
    "            \n",
    "        new_records.append(r)\n",
    "    \n",
    "    return new_records\n",
    "\n",
    "def build_data_dict():\n",
    "    data_dict = []\n",
    "    \n",
    "    for m in mapping.values():\n",
    "        data_dict.append({\n",
    "            \"id\": m,\n",
    "            \"type\": \"text\",\n",
    "        })\n",
    "        \n",
    "    for c in data_dict:\n",
    "        if c[\"id\"] in [\"measure_id\", \"year_to_date_variance\", \"budget_variance\", \"measure_value\",\"target\"]:\n",
    "            c[\"type\"] = \"float\"\n",
    "        # elif c[\"id\"] in [\"year_to_date_ind\", \"has_target_ind\"]:\n",
    "        #     c[\"type\"] = \"boolean\"\n",
    "        elif c[\"id\"] in [\"decimal_accuracy\", \"year\", \"period_number_in_year\"]:\n",
    "            c[\"type\"] = \"int\"\n",
    "\n",
    "        \n",
    "    return  data_dict\n",
    "\n",
    "def string_to_dict(string, pattern):\n",
    "    regex = re.sub(r'{(.+?)}', r'(?P<_\\1>.+)', pattern)\n",
    "    values = list(re.search(regex, string).groups())\n",
    "    keys = re.findall(r'{(.+?)}', pattern)\n",
    "    _dict = dict(zip(keys, values))\n",
    "    return _dict\n",
    "\n",
    "def build_narratives_df(notes):\n",
    "    p_map = {\n",
    "        \"January\": 1,\n",
    "        \"February\":2,\n",
    "        \"March\":3,\n",
    "        \"April\":4,\n",
    "        \"May\":5,\n",
    "        \"June\":6,\n",
    "        \"July\":7,\n",
    "        \"August\":8,\n",
    "        \"September\":9,\n",
    "        \"October\":10,\n",
    "        \"November\":11,\n",
    "        \"December\":12,\n",
    "        \"Spring\":2,\n",
    "        \"Summer\":3,\n",
    "        \"Fall\":4,\n",
    "        \"Winter\":1,\n",
    "    }\n",
    "\n",
    "    pattern1 = {\"a\":\"^\\[Quarter {period_number_in_year} {year}\\]{note}$\", \"b\":\"\\[Quarter \\d \\d{4}].*\"}\n",
    "    pattern2 = {\"a\":\"^\\[Annual {year}\\]{note}$\",\"b\":\"\\[Annual \\d{4}].*\"}\n",
    "    pattern3 = {\"a\":\"^\\[{period_number_in_year} {year}\\]{note}$\",\"b\":\"\\[\\w{3,15} \\d{4}].*\"}\n",
    "\n",
    "    narratives=[]\n",
    "    for k,v in notes.items():\n",
    "        if len(v) > 10:\n",
    "            for n in v.split('<br /><br />'):\n",
    "                note = None\n",
    "                nn = n.replace(\"<br />\", \"\").strip()\n",
    "                if re.fullmatch(pattern1[\"b\"], nn, flags=0):\n",
    "                    note = string_to_dict(nn,pattern1[\"a\"])\n",
    "                elif re.fullmatch(pattern2[\"b\"], nn, flags=0):\n",
    "                    note = string_to_dict(nn,pattern2[\"a\"])\n",
    "                    note[\"period_number_in_year\"] = note[\"year\"]\n",
    "                elif re.fullmatch(pattern3[\"b\"], nn, flags=0):\n",
    "                    note = string_to_dict(nn,pattern3[\"a\"])\n",
    "                    note['period_number_in_year'] = p_map[note['period_number_in_year']]\n",
    "                else:\n",
    "                    None\n",
    "                    # print(\"note does not match pattern:\", n)\n",
    "\n",
    "                if note:\n",
    "                    note[\"year\"] = int(note[\"year\"])\n",
    "                    note[\"period_number_in_year\"] = int(note[\"period_number_in_year\"])\n",
    "                    note[\"measure_id\"] = float(k)\n",
    "                    narratives.append(note)\n",
    "\n",
    "    return pd.DataFrame(narratives)"
   ]
  },
  {
   "cell_type": "code",
   "execution_count": 3,
   "metadata": {},
   "outputs": [],
   "source": [
    "measures = requests.get(\"https://contrib.wp.intra.prod-toronto.ca/app_content/tpp_measures/\").json()\n",
    "notes = requests.get(\"https://contrib.wp.intra.prod-toronto.ca/app_content/tpp_narratives/\").json()\n",
    "\n",
    "records = make_measures_records(measures[\"measures\"])\n",
    "# records = join_narratives(tmp_records, notes)\n",
    "fields = build_data_dict()"
   ]
  },
  {
   "cell_type": "code",
   "execution_count": 4,
   "metadata": {},
   "outputs": [],
   "source": [
    "targets=measures[\"targets\"][0]\n",
    "df_target = pd.DataFrame()\n",
    "for k, v in targets.items():\n",
    "    df = pd.DataFrame(v)\n",
    "    df[\"measure_id\"] = float(k)\n",
    "    df_target = df_target.append (df.rename(columns={\"v\":\"target\", \"p\":\"period_number_in_year\", \"y\":\"year\"}))\n",
    "df_measure = pd.DataFrame(records)\n",
    "df_measure_target = pd.merge(df_measure,df_target, how='left', on=['measure_id', 'year', 'period_number_in_year'])"
   ]
  },
  {
   "cell_type": "code",
   "execution_count": 5,
   "metadata": {},
   "outputs": [
    {
     "output_type": "stream",
     "name": "stdout",
     "text": [
      "total target number: 774 \nmacthed: 750\n"
     ]
    }
   ],
   "source": [
    "df_measure_with_target = df_measure_target[df_measure_target['target'] == df_measure_target['target']][['measure_id', 'year', 'period_number_in_year','target']]\n",
    "df_measure_with_target['matched']=True\n",
    "print('total target number:', len(df_target), '\\nmacthed:', len(df_measure_with_target))"
   ]
  },
  {
   "cell_type": "code",
   "execution_count": 6,
   "metadata": {},
   "outputs": [],
   "source": [
    "compare_df = pd.merge(df_target[['measure_id', 'year', 'period_number_in_year','target']], df_measure_with_target, how='left', on=['measure_id', 'year', 'period_number_in_year'])\n",
    "df_target_wo_measure = compare_df[compare_df['matched'] != True][['measure_id','year','period_number_in_year','target_x']].rename(columns={\"target_x\":\"target\"})\n"
   ]
  },
  {
   "cell_type": "code",
   "execution_count": 7,
   "metadata": {},
   "outputs": [],
   "source": [
    "# df_target_wo_measure"
   ]
  },
  {
   "cell_type": "code",
   "execution_count": 8,
   "metadata": {},
   "outputs": [],
   "source": [
    "df_measure_wo_vs = df_measure_target.drop(columns=['year','period_number_in_year','measure_value','target']).drop_duplicates(keep='last')\n",
    "df_measure_wo_vs['measure_value']=None\n"
   ]
  },
  {
   "cell_type": "code",
   "execution_count": 9,
   "metadata": {},
   "outputs": [],
   "source": [
    "# df_measure_wo_vs\n"
   ]
  },
  {
   "cell_type": "code",
   "execution_count": 10,
   "metadata": {},
   "outputs": [],
   "source": [
    "df_target_wo_vs = pd.merge(df_target_wo_measure,df_measure_wo_vs, how='left', on=['measure_id'])"
   ]
  },
  {
   "cell_type": "code",
   "execution_count": 11,
   "metadata": {},
   "outputs": [],
   "source": [
    "# df_target_wo_vs"
   ]
  },
  {
   "cell_type": "code",
   "execution_count": 12,
   "metadata": {},
   "outputs": [],
   "source": [
    "# df_target_wo_vs[df_measure_target.columns]"
   ]
  },
  {
   "cell_type": "code",
   "execution_count": 13,
   "metadata": {},
   "outputs": [],
   "source": [
    "df = pd.concat([df_measure_target, df_target_wo_vs[df_measure_target.columns]])"
   ]
  },
  {
   "cell_type": "code",
   "execution_count": 14,
   "metadata": {},
   "outputs": [
    {
     "output_type": "execute_result",
     "data": {
      "text/plain": [
       "8310"
      ]
     },
     "metadata": {},
     "execution_count": 14
    }
   ],
   "source": [
    "len(df)"
   ]
  },
  {
   "cell_type": "code",
   "execution_count": 15,
   "metadata": {},
   "outputs": [],
   "source": [
    "df_narrative = build_narratives_df(notes)"
   ]
  },
  {
   "cell_type": "code",
   "execution_count": 16,
   "metadata": {},
   "outputs": [
    {
     "output_type": "execute_result",
     "data": {
      "text/plain": [
       "150"
      ]
     },
     "metadata": {},
     "execution_count": 16
    }
   ],
   "source": [
    "len(df_narrative)"
   ]
  },
  {
   "cell_type": "code",
   "execution_count": 17,
   "metadata": {},
   "outputs": [],
   "source": [
    "df_w_note = pd.merge(df,df_narrative, how='left', on=['measure_id', 'year', 'period_number_in_year'])"
   ]
  },
  {
   "cell_type": "code",
   "execution_count": 18,
   "metadata": {},
   "outputs": [],
   "source": [
    "# df_w_note"
   ]
  },
  {
   "cell_type": "code",
   "execution_count": 19,
   "metadata": {},
   "outputs": [
    {
     "output_type": "execute_result",
     "data": {
      "text/plain": [
       "      measure_id  year  period_number_in_year measure_value  target  \\\n",
       "166        1.130  2020                     11         747.0     NaN   \n",
       "337        1.120  2020                     11          36.0     NaN   \n",
       "502        1.040  2020                      5        1273.6     NaN   \n",
       "510        1.040  2021                      1        1350.3     NaN   \n",
       "1362       1.110  2020                     10       86940.0     NaN   \n",
       "...          ...   ...                    ...           ...     ...   \n",
       "8038       2.330  2019                      1     1320084.0     NaN   \n",
       "8142       2.350  2019                      1      202757.0     NaN   \n",
       "8145       2.350  2019                      4      895844.0     NaN   \n",
       "8267       2.041  2020                   2020       96750.0     NaN   \n",
       "8285       2.042  2020                   2020      128249.0     NaN   \n",
       "\n",
       "                                                   note  \n",
       "166   Decrease in line with national trend where Can...  \n",
       "337   Decrease in line with national trend where Can...  \n",
       "502   Province wide emergency orders starting March ...  \n",
       "510   Statistics Canada rebased their figures based ...  \n",
       "1362  The Government of Canada made temporary change...  \n",
       "...                                                 ...  \n",
       "8038  Much of the decrease between 2018 and 2019 Q1 ...  \n",
       "8142  Much of the increase between 2018 and 2019 Q1 ...  \n",
       "8145  At Riverlea Greenhouse the number of indoor pl...  \n",
       "8267  Year-end Note: Ridership for 2020 was negative...  \n",
       "8285  Year-end Note: Ridership for 2020 was negative...  \n",
       "\n",
       "[146 rows x 6 columns]"
      ],
      "text/html": "<div>\n<style scoped>\n    .dataframe tbody tr th:only-of-type {\n        vertical-align: middle;\n    }\n\n    .dataframe tbody tr th {\n        vertical-align: top;\n    }\n\n    .dataframe thead th {\n        text-align: right;\n    }\n</style>\n<table border=\"1\" class=\"dataframe\">\n  <thead>\n    <tr style=\"text-align: right;\">\n      <th></th>\n      <th>measure_id</th>\n      <th>year</th>\n      <th>period_number_in_year</th>\n      <th>measure_value</th>\n      <th>target</th>\n      <th>note</th>\n    </tr>\n  </thead>\n  <tbody>\n    <tr>\n      <th>166</th>\n      <td>1.130</td>\n      <td>2020</td>\n      <td>11</td>\n      <td>747.0</td>\n      <td>NaN</td>\n      <td>Decrease in line with national trend where Can...</td>\n    </tr>\n    <tr>\n      <th>337</th>\n      <td>1.120</td>\n      <td>2020</td>\n      <td>11</td>\n      <td>36.0</td>\n      <td>NaN</td>\n      <td>Decrease in line with national trend where Can...</td>\n    </tr>\n    <tr>\n      <th>502</th>\n      <td>1.040</td>\n      <td>2020</td>\n      <td>5</td>\n      <td>1273.6</td>\n      <td>NaN</td>\n      <td>Province wide emergency orders starting March ...</td>\n    </tr>\n    <tr>\n      <th>510</th>\n      <td>1.040</td>\n      <td>2021</td>\n      <td>1</td>\n      <td>1350.3</td>\n      <td>NaN</td>\n      <td>Statistics Canada rebased their figures based ...</td>\n    </tr>\n    <tr>\n      <th>1362</th>\n      <td>1.110</td>\n      <td>2020</td>\n      <td>10</td>\n      <td>86940.0</td>\n      <td>NaN</td>\n      <td>The Government of Canada made temporary change...</td>\n    </tr>\n    <tr>\n      <th>...</th>\n      <td>...</td>\n      <td>...</td>\n      <td>...</td>\n      <td>...</td>\n      <td>...</td>\n      <td>...</td>\n    </tr>\n    <tr>\n      <th>8038</th>\n      <td>2.330</td>\n      <td>2019</td>\n      <td>1</td>\n      <td>1320084.0</td>\n      <td>NaN</td>\n      <td>Much of the decrease between 2018 and 2019 Q1 ...</td>\n    </tr>\n    <tr>\n      <th>8142</th>\n      <td>2.350</td>\n      <td>2019</td>\n      <td>1</td>\n      <td>202757.0</td>\n      <td>NaN</td>\n      <td>Much of the increase between 2018 and 2019 Q1 ...</td>\n    </tr>\n    <tr>\n      <th>8145</th>\n      <td>2.350</td>\n      <td>2019</td>\n      <td>4</td>\n      <td>895844.0</td>\n      <td>NaN</td>\n      <td>At Riverlea Greenhouse the number of indoor pl...</td>\n    </tr>\n    <tr>\n      <th>8267</th>\n      <td>2.041</td>\n      <td>2020</td>\n      <td>2020</td>\n      <td>96750.0</td>\n      <td>NaN</td>\n      <td>Year-end Note: Ridership for 2020 was negative...</td>\n    </tr>\n    <tr>\n      <th>8285</th>\n      <td>2.042</td>\n      <td>2020</td>\n      <td>2020</td>\n      <td>128249.0</td>\n      <td>NaN</td>\n      <td>Year-end Note: Ridership for 2020 was negative...</td>\n    </tr>\n  </tbody>\n</table>\n<p>146 rows × 6 columns</p>\n</div>"
     },
     "metadata": {},
     "execution_count": 19
    }
   ],
   "source": [
    "df_w_note[['measure_id', 'year', 'period_number_in_year','measure_value', 'target', 'note']][df_w_note['note']==df_w_note['note']]"
   ]
  },
  {
   "cell_type": "code",
   "execution_count": 20,
   "metadata": {},
   "outputs": [],
   "source": [
    "#verify some target \n",
    "# df_measure[(df_measure['measure_id']==2.12) & (df_measure['year']==2020) & (df_measure['period_number_in_year']==12)]"
   ]
  },
  {
   "cell_type": "code",
   "execution_count": 21,
   "metadata": {},
   "outputs": [],
   "source": [
    "# df_measure_target[(df_measure_target['measure_id']==2.12) & (df_measure_target['year']==2020) & (df_measure_target['period_number_in_year']> 8)]"
   ]
  },
  {
   "cell_type": "code",
   "execution_count": 41,
   "metadata": {},
   "outputs": [],
   "source": [
    "# load ckan connection from setting\n",
    "\n",
    "loading_folder = os.getcwd()\n",
    "setting_file = loading_folder+'\\\\..\\\\setting.json'\n",
    "with open(setting_file) as f:\n",
    "    setting = json.load(f)\n",
    "\n",
    "ckan_connect = setting[\"ckan_qa\"]\n",
    "ckan = ckanapi.RemoteCKAN(ckan_connect['address'], ckan_connect['apikey'])\n"
   ]
  },
  {
   "cell_type": "code",
   "execution_count": 23,
   "metadata": {},
   "outputs": [],
   "source": [
    "# find target package and resource and purge content, otherwise create resource\n",
    "package_name='toronto-progress-portal'\n",
    "res_name='Toronto progress portal - Key metrics'\n",
    "res_id=None\n",
    "now = datetime.datetime.now().strftime(\"%Y-%m-%dT%H:%M:%S.%f\")\n",
    "\n",
    "try:\n",
    "    package=ckan.action.package_show(id=package_name)\n",
    "    resources=package.pop('resources')\n",
    "    # find datastore resource with same name and delete data\n",
    "    for r1 in resources:\n",
    "        if r1['name']==res_name: # and r1['datastore_active']:\n",
    "            res_id = r1['id']\n",
    "            ckan.action.datastore_delete(id=res_id, filters={}, force=True)\n",
    "            ckan.action.resource_patch(id=res_id, datastore_active=True, is_preview=True, last_refreshed=now)\n",
    "            ckan.action.package_patch(id=package['id'], last_refreshed=now)\n",
    "            break\n",
    "except:\n",
    "    print('Error finding package')\n",
    "\n",
    "if not res_id:\n",
    "    try:\n",
    "        r = {'package_id': package['id'], 'format': 'CSV', 'extract_job': 'Python-progress','name': res_name, 'datastore_active': True,'is_preview': True}\n",
    "        res = ckan.action.datastore_create( resource=r, fields=fields, primary_key='measure_id,year,period_number_in_year', force=True)\n",
    "        res_id = res['resource_id']\n",
    "    except:\n",
    "        print('Error creating resource')"
   ]
  },
  {
   "cell_type": "code",
   "execution_count": 24,
   "metadata": {},
   "outputs": [],
   "source": [
    "df = df_w_note"
   ]
  },
  {
   "cell_type": "code",
   "execution_count": 25,
   "metadata": {},
   "outputs": [
    {
     "output_type": "stream",
     "name": "stdout",
     "text": [
      "Try: 0 1000\n",
      "Try: 1000 2000\n",
      "Try: 2000 3000\n",
      "Try: 3000 4000\n",
      "Try: 4000 5000\n",
      "Try: 5000 6000\n",
      "Try: 6000 7000\n",
      "Try: 7000 8000\n",
      "Try: 8000 9000\n",
      "Data loading completed: 8310\n"
     ]
    }
   ],
   "source": [
    "i=0\n",
    "while i < len(df):\n",
    "    rec=[ { k:v for k,v in r.items() if (v == v) and (v is not None) } for r in df[i:i+1000].to_dict(orient=\"records\") ]\n",
    "    try:\n",
    "        print('Try:',i,i+1000)\n",
    "        progress_insert=ckan.action.datastore_upsert(id=res_id, records=rec, force=True, method='upsert')\n",
    "    except Exception as e:\n",
    "        print('Something is wrong:', e)\n",
    "        break\n",
    "    i=i+1000\n",
    "\n",
    "if i >= len(df):\n",
    "    print('Data loading completed:', len(df))\n",
    "else:\n",
    "    print('Data loading aborted')"
   ]
  },
  {
   "cell_type": "code",
   "execution_count": 33,
   "metadata": {},
   "outputs": [
    {
     "output_type": "execute_result",
     "data": {
      "text/plain": [
       "[{'cache_last_updated': None,\n",
       "  'package_id': '351a2bbf-a2a1-434c-943c-84e07d66596d',\n",
       "  'datastore_active': True,\n",
       "  'id': 'de6ae758-336b-452d-bae1-ce2c48ba029c',\n",
       "  'size': None,\n",
       "  'format': 'CSV',\n",
       "  'state': 'active',\n",
       "  'hash': '',\n",
       "  'description': '',\n",
       "  'is_preview': True,\n",
       "  'last_modified': None,\n",
       "  'url_type': 'datastore',\n",
       "  'mimetype': None,\n",
       "  'cache_url': None,\n",
       "  'extract_job': 'Python-progress',\n",
       "  'name': 'Toronto progress portal - Key metrics',\n",
       "  'created': '2021-06-04T15:23:50.164873',\n",
       "  'url': 'https://ckanadmin0.intra.qa-toronto.ca/datastore/dump/de6ae758-336b-452d-bae1-ce2c48ba029c',\n",
       "  'last_refreshed': '2021-06-07T10:29:12.787302',\n",
       "  'mimetype_inner': None,\n",
       "  'position': 0,\n",
       "  'revision_id': 'e371bbc5-b6f4-441b-9063-01389c1cb1df',\n",
       "  'resource_type': None}]"
      ]
     },
     "metadata": {},
     "execution_count": 33
    }
   ],
   "source": [
    "# import datetime\n",
    "# now = datetime.datetime.now().strftime(\"%Y-%m-%dT%H:%M:%S.%f\")\n",
    "# ckan.action.resource_patch(id=res_id, last_refreshed=now)\n",
    "# package=ckan.action.package_show(id=package_name)\n",
    "# resources=package.pop('resources')\n",
    "resources"
   ]
  },
  {
   "cell_type": "code",
   "execution_count": 26,
   "metadata": {},
   "outputs": [],
   "source": [
    "# # data from Pandas DataFrame df\n",
    "# with_nans = df.to_dict(orient=\"records\")\n",
    "# ​\n",
    "# # since np.nan != np.nan, can use it to filter. Essentially, knowing that the type is NOT a number doesn't mean both types ARE THE SAME non-number type.\n",
    "# ​\n",
    "# # ALTERNATIVE 1: create new list of records without NaNs using dictionary comprehension\n",
    "# without_nans = []\n",
    "# for r in with_nans:\n",
    "# \tnew_record = { k:v for k,v in r.items() if v == v }\n",
    "#     without_nans.append(new_record)\n",
    "    \n",
    "# # ALTERNATIVE 2: can take it a step further by combining with list comprehension\n",
    "# without_nans = [ { k:v for k,v in r.items() if v == v } for r in with_nans ]\n",
    "# ​\n",
    "# # ALTERNATIVE 3: can put it all in one line\n",
    "# without_nans = [ { k:v for k,v in r.items() if v == v } for r in df.to_dict(orient=\"records\") ]"
   ]
  },
  {
   "cell_type": "code",
   "execution_count": 27,
   "metadata": {
    "tags": []
   },
   "outputs": [],
   "source": [
    "# narratives=[]\n",
    "# for k,v in notes.items():\n",
    "#     if len(v) > 10:\n",
    "#         for n in v.split('<br /><br />'):\n",
    "#             note = None\n",
    "#             nn = n.replace(\"<br />\", \"\").strip()\n",
    "#             if re.fullmatch(pattern1[\"b\"], nn, flags=0):\n",
    "#                 note = string_to_dict(nn,pattern1[\"a\"])\n",
    "#             elif re.fullmatch(pattern2[\"b\"], nn, flags=0):\n",
    "#                 note = string_to_dict(nn,pattern2[\"a\"])\n",
    "#                 note[\"period_number_in_year\"] = note[\"year\"]\n",
    "#             elif re.fullmatch(pattern3[\"b\"], nn, flags=0):\n",
    "#                 note = string_to_dict(nn,pattern3[\"a\"])\n",
    "#                 note['period_number_in_year'] = p_map[note['period_number_in_year']]\n",
    "#             else:\n",
    "#                 print(\"note does not match pattern:\", n)\n",
    "#             if note:\n",
    "#                 note[\"year\"] = int(note[\"year\"])\n",
    "#                 note[\"period_number_in_year\"] = int(note[\"period_number_in_year\"])\n",
    "#                 note[\"measure_id\"] = float(k)\n",
    "#                 narratives.append(note)\n",
    "# df_narrative=pd.DataFrame(narratives)\n",
    "# df_narrative"
   ]
  },
  {
   "cell_type": "code",
   "execution_count": 80,
   "metadata": {},
   "outputs": [],
   "source": []
  },
  {
   "cell_type": "code",
   "execution_count": 28,
   "metadata": {},
   "outputs": [
    {
     "output_type": "execute_result",
     "data": {
      "text/plain": [
       "    period_number_in_year  year  \\\n",
       "50                      3  2019   \n",
       "51                      2  2019   \n",
       "52                      1  2019   \n",
       "53                      3  2019   \n",
       "\n",
       "                                               note_x  measure_id  \\\n",
       "50  On September 23rd, the City launched a new rec...        2.06   \n",
       "51  The City continues to see an increase in appli...        2.06   \n",
       "52  The City of Toronto promoted the Summer Intern...        2.07   \n",
       "53  On September 23rd, the City launched a new rec...        2.08   \n",
       "\n",
       "   measure_name interval_type value_type measure_value  year_to_date_variance  \\\n",
       "50          NaN           NaN        NaN           NaN                    NaN   \n",
       "51          NaN           NaN        NaN           NaN                    NaN   \n",
       "52          NaN           NaN        NaN           NaN                    NaN   \n",
       "53          NaN           NaN        NaN           NaN                    NaN   \n",
       "\n",
       "   desired_direction category data_source_notes city_perspective_note  \\\n",
       "50               NaN      NaN               NaN                   NaN   \n",
       "51               NaN      NaN               NaN                   NaN   \n",
       "52               NaN      NaN               NaN                   NaN   \n",
       "53               NaN      NaN               NaN                   NaN   \n",
       "\n",
       "    decimal_accuracy  budget_variance  target note_y  \n",
       "50               NaN              NaN     NaN    NaN  \n",
       "51               NaN              NaN     NaN    NaN  \n",
       "52               NaN              NaN     NaN    NaN  \n",
       "53               NaN              NaN     NaN    NaN  "
      ],
      "text/html": "<div>\n<style scoped>\n    .dataframe tbody tr th:only-of-type {\n        vertical-align: middle;\n    }\n\n    .dataframe tbody tr th {\n        vertical-align: top;\n    }\n\n    .dataframe thead th {\n        text-align: right;\n    }\n</style>\n<table border=\"1\" class=\"dataframe\">\n  <thead>\n    <tr style=\"text-align: right;\">\n      <th></th>\n      <th>period_number_in_year</th>\n      <th>year</th>\n      <th>note_x</th>\n      <th>measure_id</th>\n      <th>measure_name</th>\n      <th>interval_type</th>\n      <th>value_type</th>\n      <th>measure_value</th>\n      <th>year_to_date_variance</th>\n      <th>desired_direction</th>\n      <th>category</th>\n      <th>data_source_notes</th>\n      <th>city_perspective_note</th>\n      <th>decimal_accuracy</th>\n      <th>budget_variance</th>\n      <th>target</th>\n      <th>note_y</th>\n    </tr>\n  </thead>\n  <tbody>\n    <tr>\n      <th>50</th>\n      <td>3</td>\n      <td>2019</td>\n      <td>On September 23rd, the City launched a new rec...</td>\n      <td>2.06</td>\n      <td>NaN</td>\n      <td>NaN</td>\n      <td>NaN</td>\n      <td>NaN</td>\n      <td>NaN</td>\n      <td>NaN</td>\n      <td>NaN</td>\n      <td>NaN</td>\n      <td>NaN</td>\n      <td>NaN</td>\n      <td>NaN</td>\n      <td>NaN</td>\n      <td>NaN</td>\n    </tr>\n    <tr>\n      <th>51</th>\n      <td>2</td>\n      <td>2019</td>\n      <td>The City continues to see an increase in appli...</td>\n      <td>2.06</td>\n      <td>NaN</td>\n      <td>NaN</td>\n      <td>NaN</td>\n      <td>NaN</td>\n      <td>NaN</td>\n      <td>NaN</td>\n      <td>NaN</td>\n      <td>NaN</td>\n      <td>NaN</td>\n      <td>NaN</td>\n      <td>NaN</td>\n      <td>NaN</td>\n      <td>NaN</td>\n    </tr>\n    <tr>\n      <th>52</th>\n      <td>1</td>\n      <td>2019</td>\n      <td>The City of Toronto promoted the Summer Intern...</td>\n      <td>2.07</td>\n      <td>NaN</td>\n      <td>NaN</td>\n      <td>NaN</td>\n      <td>NaN</td>\n      <td>NaN</td>\n      <td>NaN</td>\n      <td>NaN</td>\n      <td>NaN</td>\n      <td>NaN</td>\n      <td>NaN</td>\n      <td>NaN</td>\n      <td>NaN</td>\n      <td>NaN</td>\n    </tr>\n    <tr>\n      <th>53</th>\n      <td>3</td>\n      <td>2019</td>\n      <td>On September 23rd, the City launched a new rec...</td>\n      <td>2.08</td>\n      <td>NaN</td>\n      <td>NaN</td>\n      <td>NaN</td>\n      <td>NaN</td>\n      <td>NaN</td>\n      <td>NaN</td>\n      <td>NaN</td>\n      <td>NaN</td>\n      <td>NaN</td>\n      <td>NaN</td>\n      <td>NaN</td>\n      <td>NaN</td>\n      <td>NaN</td>\n    </tr>\n  </tbody>\n</table>\n</div>"
     },
     "metadata": {},
     "execution_count": 28
    }
   ],
   "source": [
    "# Find out what narratives are not matched\n",
    "df_note_no_match = pd.merge(df_narrative, df, how='left', on=['measure_id', 'year', 'period_number_in_year'])\n",
    "df_note_no_match[df_note_no_match['measure_name'] != df_note_no_match['measure_name']]"
   ]
  }
 ],
 "metadata": {
  "kernelspec": {
   "name": "python372jvsc74a57bd06c97748df67d7663c28fd6ba6790c46b89906412ba0f523cca8cdfdbc5008d42",
   "display_name": "Python 3.7.2 64-bit ('CKAN': conda)"
  },
  "language_info": {
   "codemirror_mode": {
    "name": "ipython",
    "version": 3
   },
   "file_extension": ".py",
   "mimetype": "text/x-python",
   "name": "python",
   "nbconvert_exporter": "python",
   "pygments_lexer": "ipython3",
   "version": "3.7.2"
  }
 },
 "nbformat": 4,
 "nbformat_minor": 4
}