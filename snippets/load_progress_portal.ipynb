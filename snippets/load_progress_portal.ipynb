{
 "cells": [
  {
   "cell_type": "code",
   "execution_count": 246,
   "metadata": {},
   "outputs": [],
   "source": [
    "import pandas as pd\n",
    "import requests\n",
    "import ckanapi\n",
    "import math\n",
    "import re"
   ]
  },
  {
   "cell_type": "code",
   "execution_count": 280,
   "metadata": {},
   "outputs": [],
   "source": [
    "mapping = {\n",
    "    \"id\": \"measure_id\",\n",
    "    \"m\": \"measure_name\",\n",
    "    \"it\": \"interval_type\",\n",
    "    \"vt\": \"value_type\",\n",
    "    # \"ytd\": \"year_to_date_ind\",\n",
    "    # \"ht\": \"has_target_ind\",\n",
    "    \"v\": \"variance\",\n",
    "    \"yv\": \"year_to_date_variance\",\n",
    "    \"bv\": \"budget_variance\",\n",
    "    \"da\": \"decimal_accuracy\", # should this be precision?\n",
    "    \"dd\": \"desired_direction\",\n",
    "    \"c\": \"category\",\n",
    "    \"ds\":\"data_source_notes\",\n",
    "    \"cp\": \"city_perspective_note\",\n",
    "    \"y\": \"year\",\n",
    "    \"p\": \"period_number_in_year\",\n",
    "    \"v\": \"measure_value\",\n",
    "    \"target\":\"target\",\n",
    "    \"notes\":\"notes\",\n",
    "    \"c\": \"category\",\n",
    "    # \"kw\": \"keywords\",\n",
    "}\n",
    "\n",
    "def get_category_measures(measures, category):\n",
    "    subset = []\n",
    "    for m in measures:\n",
    "        assert len(m[\"c\"]) == 1, f\"Measure has more than 1 category: {m['c']}\"\n",
    "        if m[\"c\"][0].lower() == category.lower():\n",
    "            subset.append(m)\n",
    "            \n",
    "    return subset\n",
    "\n",
    "\n",
    "def make_measures_records(measures):\n",
    "    records = []\n",
    "    \n",
    "    for i in measures:\n",
    "        item = { **i }\n",
    "        data_points = item.pop(\"vs\")\n",
    "        \n",
    "        assert len(i[\"c\"]) == 1, f\"Item '{i['m']}' ({i['id']}) belongs to more than 1 category: {item['c']}\"\n",
    "        \n",
    "        item[\"c\"] = item[\"c\"][0]\n",
    "        \n",
    "        for dp in data_points:\n",
    "            r = { k: v for k, v in {**item, **dp}.items() if v }\n",
    "            r[\"m\"] = r[\"m\"].replace(\"\\n\", \" \")\n",
    "            r[\"ds\"] = r[\"ds\"].replace(\"&amp;\", \"&\")\n",
    "            r.pop(\"ytd\")\n",
    "            r.pop(\"ht\")\n",
    "            r.pop(\"kw\")\n",
    "            if \"da\" in r:\n",
    "                r[\"da\"] = int(r[\"da\"])\n",
    "            if \"yv\" in r:\n",
    "                r[\"yv\"] = float(r[\"yv\"])\n",
    "            if \"bv\" in r:\n",
    "                r[\"bv\"] = float(r[\"bv\"])\n",
    "            \n",
    "            for original,updated in mapping.items():\n",
    "                if original in r:\n",
    "                    r[updated] = r.pop(original)\n",
    "\n",
    "            records.append(r)\n",
    "            \n",
    "    return records\n",
    "\n",
    "def join_narratives(records, narratives):\n",
    "    new_records = []\n",
    "    \n",
    "    for record in records:\n",
    "        r = {**record}\n",
    "        \n",
    "        n = narratives.get(f'{r[mapping[\"id\"]]}')\n",
    "        if n is not None and len(n)>1:\n",
    "            r[\"notes\"] = n.replace(\"<br />\", \"\\n\").strip(\"\\n\").strip()\n",
    "            \n",
    "        new_records.append(r)\n",
    "    \n",
    "    return new_records\n",
    "\n",
    "def build_data_dict():\n",
    "    data_dict = []\n",
    "    \n",
    "    for m in mapping.values():\n",
    "        data_dict.append({\n",
    "            \"id\": m,\n",
    "            \"type\": \"text\",\n",
    "        })\n",
    "        \n",
    "    for c in data_dict:\n",
    "        if c[\"id\"] in [\"measure_id\", \"year_to_date_variance\", \"budget_variance\", \"measure_value\",\"target\"]:\n",
    "            c[\"type\"] = \"float\"\n",
    "        # elif c[\"id\"] in [\"year_to_date_ind\", \"has_target_ind\"]:\n",
    "        #     c[\"type\"] = \"boolean\"\n",
    "        elif c[\"id\"] in [\"decimal_accuracy\", \"year\", \"period_number_in_year\"]:\n",
    "            c[\"type\"] = \"int\"\n",
    "\n",
    "        \n",
    "    return  data_dict\n",
    "\n",
    "def string_to_dict(string, pattern):\n",
    "    regex = re.sub(r'{(.+?)}', r'(?P<_\\1>.+)', pattern)\n",
    "    values = list(re.search(regex, string).groups())\n",
    "    keys = re.findall(r'{(.+?)}', pattern)\n",
    "    _dict = dict(zip(keys, values))\n",
    "    return _dict\n",
    "\n",
    "def build_narratives_df(notes):\n",
    "    p_map = {\n",
    "        \"January\": 1,\n",
    "        \"February\":2,\n",
    "        \"March\":3,\n",
    "        \"April\":4,\n",
    "        \"May\":5,\n",
    "        \"June\":6,\n",
    "        \"July\":7,\n",
    "        \"August\":8,\n",
    "        \"September\":9,\n",
    "        \"October\":10,\n",
    "        \"November\":11,\n",
    "        \"December\":12,\n",
    "        \"Spring\":1,\n",
    "        \"Summer\":2,\n",
    "        \"Fall\":3,\n",
    "        \"Winter\":4,\n",
    "    }\n",
    "\n",
    "    pattern1 = {\"a\":\"^\\[Quarter {period_number_in_year} {year}\\]{note}$\", \"b\":\"\\[Quarter \\d \\d{4}].*\"}\n",
    "    pattern2 = {\"a\":\"^\\[Annual {year}\\]{note}$\",\"b\":\"\\[Annual \\d{4}].*\"}\n",
    "    pattern3 = {\"a\":\"^\\[{period_number_in_year} {year}\\]{note}$\",\"b\":\"\\[\\w{3,15} \\d{4}].*\"}\n",
    "\n",
    "    narratives=[]\n",
    "    for k,v in notes.items():\n",
    "        if len(v) > 10:\n",
    "            for n in v.split('<br /><br />'):\n",
    "                note = None\n",
    "                nn = n.replace(\"<br />\", \"\").strip()\n",
    "                if re.fullmatch(pattern1[\"b\"], nn, flags=0):\n",
    "                    note = string_to_dict(nn,pattern1[\"a\"])\n",
    "                elif re.fullmatch(pattern2[\"b\"], nn, flags=0):\n",
    "                    note = string_to_dict(nn,pattern2[\"a\"])\n",
    "                    note[\"period_number_in_year\"] = note[\"year\"]\n",
    "                elif re.fullmatch(pattern3[\"b\"], nn, flags=0):\n",
    "                    note = string_to_dict(nn,pattern3[\"a\"])\n",
    "                    note['period_number_in_year'] = p_map[note['period_number_in_year']]\n",
    "                else:\n",
    "                    None\n",
    "                    # print(\"note does not match pattern:\", n)\n",
    "\n",
    "                if note:\n",
    "                    note[\"year\"] = int(note[\"year\"])\n",
    "                    note[\"period_number_in_year\"] = int(note[\"period_number_in_year\"])\n",
    "                    note[\"measure_id\"] = float(k)\n",
    "                    narratives.append(note)\n",
    "\n",
    "    return pd.DataFrame(naratives)"
   ]
  },
  {
   "cell_type": "code",
   "execution_count": 45,
   "metadata": {},
   "outputs": [],
   "source": [
    "measures = requests.get(\"https://contrib.wp.intra.prod-toronto.ca/app_content/tpp_measures/\").json()\n",
    "notes = requests.get(\"https://contrib.wp.intra.prod-toronto.ca/app_content/tpp_narratives/\").json()\n",
    "\n",
    "tmp_records = make_measures_records(measures[\"measures\"])\n",
    "# records = join_narratives(tmp_records, notes)\n",
    "fields = build_data_dict()"
   ]
  },
  {
   "cell_type": "code",
   "execution_count": 46,
   "metadata": {},
   "outputs": [],
   "source": [
    "targets=measures[\"targets\"][0]\n",
    "df_target = pd.DataFrame()\n",
    "for k, v in targets.items():\n",
    "    df = pd.DataFrame(v)\n",
    "    df[\"measure_id\"] = float(k)\n",
    "    df_target = df_target.append (df.rename(columns={\"v\":\"target\", \"p\":\"period_number_in_year\", \"y\":\"year\"}))\n",
    "df_measure = pd.DataFrame(records)\n",
    "df_measure_target = pd.merge(df_measure,df_target, how='left', on=['measure_id', 'year', 'period_number_in_year'])"
   ]
  },
  {
   "cell_type": "code",
   "execution_count": 47,
   "metadata": {},
   "outputs": [
    {
     "output_type": "stream",
     "name": "stdout",
     "text": [
      "total target number: 774 \nmacthed: 750\n"
     ]
    }
   ],
   "source": [
    "df_measure_with_target = df_measure_target[df_measure_target['target'] == df_measure_target['target']][['measure_id', 'year', 'period_number_in_year','target']]\n",
    "df_measure_with_target['matched']=True\n",
    "print('total target number:', len(df_target), '\\nmacthed:', len(df_measure_with_target))"
   ]
  },
  {
   "cell_type": "code",
   "execution_count": 48,
   "metadata": {},
   "outputs": [],
   "source": [
    "compare_df = pd.merge(df_target[['measure_id', 'year', 'period_number_in_year','target']], df_measure_with_target, how='left', on=['measure_id', 'year', 'period_number_in_year'])\n",
    "df_target_wo_measure = compare_df[compare_df['matched'] != True][['measure_id','year','period_number_in_year','target_x']].rename(columns={\"target_x\":\"target\"})\n"
   ]
  },
  {
   "cell_type": "code",
   "execution_count": 49,
   "metadata": {},
   "outputs": [
    {
     "output_type": "execute_result",
     "data": {
      "text/plain": [
       "     measure_id  year  period_number_in_year       target\n",
       "399        2.12  2020                     10  63526731.00\n",
       "400        2.12  2020                     11  67280274.00\n",
       "401        2.12  2020                     12  64429309.00\n",
       "537        2.17  2021                      4    712895.00\n",
       "538        2.17  2021                      5    664891.00\n",
       "539        2.17  2021                      6    739639.00\n",
       "540        2.17  2021                      7    733744.00\n",
       "541        2.17  2021                      8    645728.00\n",
       "542        2.17  2021                      9    742224.00\n",
       "543        2.17  2021                     10    710018.00\n",
       "544        2.17  2021                     11    691607.00\n",
       "545        2.17  2021                     12    721560.00\n",
       "627        2.40  2021                      2    718290.52\n",
       "628        2.40  2021                      3   2300000.00\n",
       "629        2.40  2021                      4   2450000.00\n",
       "675        2.41  2021                      2    329341.05\n",
       "676        2.41  2021                      3    985000.00\n",
       "677        2.41  2021                      4   1150000.00\n",
       "723        2.42  2021                      2    250000.00\n",
       "724        2.42  2021                      3    900000.00\n",
       "725        2.42  2021                      4   1100000.00\n",
       "771        2.43  2021                      2   5875873.00\n",
       "772        2.43  2021                      3   6307476.00\n",
       "773        2.43  2021                      4   6444270.00"
      ],
      "text/html": "<div>\n<style scoped>\n    .dataframe tbody tr th:only-of-type {\n        vertical-align: middle;\n    }\n\n    .dataframe tbody tr th {\n        vertical-align: top;\n    }\n\n    .dataframe thead th {\n        text-align: right;\n    }\n</style>\n<table border=\"1\" class=\"dataframe\">\n  <thead>\n    <tr style=\"text-align: right;\">\n      <th></th>\n      <th>measure_id</th>\n      <th>year</th>\n      <th>period_number_in_year</th>\n      <th>target</th>\n    </tr>\n  </thead>\n  <tbody>\n    <tr>\n      <th>399</th>\n      <td>2.12</td>\n      <td>2020</td>\n      <td>10</td>\n      <td>63526731.00</td>\n    </tr>\n    <tr>\n      <th>400</th>\n      <td>2.12</td>\n      <td>2020</td>\n      <td>11</td>\n      <td>67280274.00</td>\n    </tr>\n    <tr>\n      <th>401</th>\n      <td>2.12</td>\n      <td>2020</td>\n      <td>12</td>\n      <td>64429309.00</td>\n    </tr>\n    <tr>\n      <th>537</th>\n      <td>2.17</td>\n      <td>2021</td>\n      <td>4</td>\n      <td>712895.00</td>\n    </tr>\n    <tr>\n      <th>538</th>\n      <td>2.17</td>\n      <td>2021</td>\n      <td>5</td>\n      <td>664891.00</td>\n    </tr>\n    <tr>\n      <th>539</th>\n      <td>2.17</td>\n      <td>2021</td>\n      <td>6</td>\n      <td>739639.00</td>\n    </tr>\n    <tr>\n      <th>540</th>\n      <td>2.17</td>\n      <td>2021</td>\n      <td>7</td>\n      <td>733744.00</td>\n    </tr>\n    <tr>\n      <th>541</th>\n      <td>2.17</td>\n      <td>2021</td>\n      <td>8</td>\n      <td>645728.00</td>\n    </tr>\n    <tr>\n      <th>542</th>\n      <td>2.17</td>\n      <td>2021</td>\n      <td>9</td>\n      <td>742224.00</td>\n    </tr>\n    <tr>\n      <th>543</th>\n      <td>2.17</td>\n      <td>2021</td>\n      <td>10</td>\n      <td>710018.00</td>\n    </tr>\n    <tr>\n      <th>544</th>\n      <td>2.17</td>\n      <td>2021</td>\n      <td>11</td>\n      <td>691607.00</td>\n    </tr>\n    <tr>\n      <th>545</th>\n      <td>2.17</td>\n      <td>2021</td>\n      <td>12</td>\n      <td>721560.00</td>\n    </tr>\n    <tr>\n      <th>627</th>\n      <td>2.40</td>\n      <td>2021</td>\n      <td>2</td>\n      <td>718290.52</td>\n    </tr>\n    <tr>\n      <th>628</th>\n      <td>2.40</td>\n      <td>2021</td>\n      <td>3</td>\n      <td>2300000.00</td>\n    </tr>\n    <tr>\n      <th>629</th>\n      <td>2.40</td>\n      <td>2021</td>\n      <td>4</td>\n      <td>2450000.00</td>\n    </tr>\n    <tr>\n      <th>675</th>\n      <td>2.41</td>\n      <td>2021</td>\n      <td>2</td>\n      <td>329341.05</td>\n    </tr>\n    <tr>\n      <th>676</th>\n      <td>2.41</td>\n      <td>2021</td>\n      <td>3</td>\n      <td>985000.00</td>\n    </tr>\n    <tr>\n      <th>677</th>\n      <td>2.41</td>\n      <td>2021</td>\n      <td>4</td>\n      <td>1150000.00</td>\n    </tr>\n    <tr>\n      <th>723</th>\n      <td>2.42</td>\n      <td>2021</td>\n      <td>2</td>\n      <td>250000.00</td>\n    </tr>\n    <tr>\n      <th>724</th>\n      <td>2.42</td>\n      <td>2021</td>\n      <td>3</td>\n      <td>900000.00</td>\n    </tr>\n    <tr>\n      <th>725</th>\n      <td>2.42</td>\n      <td>2021</td>\n      <td>4</td>\n      <td>1100000.00</td>\n    </tr>\n    <tr>\n      <th>771</th>\n      <td>2.43</td>\n      <td>2021</td>\n      <td>2</td>\n      <td>5875873.00</td>\n    </tr>\n    <tr>\n      <th>772</th>\n      <td>2.43</td>\n      <td>2021</td>\n      <td>3</td>\n      <td>6307476.00</td>\n    </tr>\n    <tr>\n      <th>773</th>\n      <td>2.43</td>\n      <td>2021</td>\n      <td>4</td>\n      <td>6444270.00</td>\n    </tr>\n  </tbody>\n</table>\n</div>"
     },
     "metadata": {},
     "execution_count": 49
    }
   ],
   "source": [
    "df_target_wo_measure"
   ]
  },
  {
   "cell_type": "code",
   "execution_count": 70,
   "metadata": {},
   "outputs": [],
   "source": [
    "df_measure_wo_vs = df_measure_target.drop(columns=['year','period_number_in_year','measure_value','target']).drop_duplicates(keep='last')\n",
    "df_measure_wo_vs['measure_value']=None\n"
   ]
  },
  {
   "cell_type": "code",
   "execution_count": 96,
   "metadata": {},
   "outputs": [
    {
     "output_type": "execute_result",
     "data": {
      "text/plain": [
       "      measure_id                                       measure_name  \\\n",
       "170        1.130          Number of Personal Bankruptcies (Ontario)   \n",
       "341        1.120         Number of Business Bankruptcies (Ontario)    \n",
       "512        1.040         Employed City of Toronto Residents (000's)   \n",
       "683        1.060  Percentage who are Self-Employed (Toronto Resi...   \n",
       "854        1.020              Unemployment Rate (Toronto Residents)   \n",
       "...          ...                                                ...   \n",
       "8145       2.350  Sports and Recreation -Permit Activity - Numbe...   \n",
       "8197       2.380    Free Centres – Registered Program Enrolment (#)   \n",
       "8249       2.390              Free Centres – Drop-in Attendance (#)   \n",
       "8267       2.041             TTC Annual Passenger Rides Peak (000s)   \n",
       "8285       2.042         TTC Annual Passenger Rides Non-Peak (000s)   \n",
       "\n",
       "     interval_type value_type  year_to_date_variance desired_direction  \\\n",
       "170              m          n                   0.05              Down   \n",
       "341              m          n                   0.05              Down   \n",
       "512              m          n                   0.01                Up   \n",
       "683              m          p                    NaN                Up   \n",
       "854              m          p                    NaN              Down   \n",
       "...            ...        ...                    ...               ...   \n",
       "8145             s          n                    NaN                Up   \n",
       "8197             s          n                    NaN              None   \n",
       "8249             s          n                    NaN              None   \n",
       "8267             y          n                    NaN                Up   \n",
       "8285             y          n                    NaN                Up   \n",
       "\n",
       "                     category  \\\n",
       "170   Community Vulnerability   \n",
       "341                   Economy   \n",
       "512                   Economy   \n",
       "683                   Economy   \n",
       "854                   Economy   \n",
       "...                       ...   \n",
       "8145                 Services   \n",
       "8197                 Services   \n",
       "8249                 Services   \n",
       "8267                 Services   \n",
       "8285                 Services   \n",
       "\n",
       "                                      data_source_notes  \\\n",
       "170                             Source: Industry Canada   \n",
       "341                             Source: Industry Canada   \n",
       "512    Seasonally Adjusted 3-month moving average (S...   \n",
       "683    3 month moving average (Source: Statistics Ca...   \n",
       "854    Seasonally Adjusted 3-month moving average (S...   \n",
       "...                                                 ...   \n",
       "8145  Source: City of Toronto, Parks, Forestry & Rec...   \n",
       "8197  Source: City of Toronto, Parks, Forestry & Rec...   \n",
       "8249  Source: City of Toronto, Parks, Forestry & Rec...   \n",
       "8267                 Source: Toronto Transit Commission   \n",
       "8285                 Source: Toronto Transit Commission   \n",
       "\n",
       "                                                  notes  decimal_accuracy  \\\n",
       "170   [November 2020]\\nDecrease in line with nationa...               NaN   \n",
       "341   [November 2020]\\nDecrease in line with nationa...               NaN   \n",
       "512   [January 2021]\\nStatistics Canada rebased thei...               NaN   \n",
       "683                                                 NaN               1.0   \n",
       "854                                                 NaN               1.0   \n",
       "...                                                 ...               ...   \n",
       "8145  [Fall 2019]\\nAt Riverlea Greenhouse the number...               NaN   \n",
       "8197                                                NaN               NaN   \n",
       "8249                                                NaN               NaN   \n",
       "8267  [Annual 2020]\\nYear-end Note: Ridership for 20...               NaN   \n",
       "8285  [Annual 2020]\\nYear-end Note: Ridership for 20...               NaN   \n",
       "\n",
       "                                  city_perspective_note  budget_variance  \\\n",
       "170                                                 NaN              NaN   \n",
       "341                                                 NaN              NaN   \n",
       "512                                                 NaN              NaN   \n",
       "683   Colour scheme is based on the city 's perspect...              NaN   \n",
       "854                                                 NaN              NaN   \n",
       "...                                                 ...              ...   \n",
       "8145                                                NaN              NaN   \n",
       "8197                                                NaN              NaN   \n",
       "8249                                                NaN              NaN   \n",
       "8267                                                NaN              NaN   \n",
       "8285                                                NaN              NaN   \n",
       "\n",
       "     measure_value  \n",
       "170           None  \n",
       "341           None  \n",
       "512           None  \n",
       "683           None  \n",
       "854           None  \n",
       "...            ...  \n",
       "8145          None  \n",
       "8197          None  \n",
       "8249          None  \n",
       "8267          None  \n",
       "8285          None  \n",
       "\n",
       "[66 rows x 13 columns]"
      ],
      "text/html": "<div>\n<style scoped>\n    .dataframe tbody tr th:only-of-type {\n        vertical-align: middle;\n    }\n\n    .dataframe tbody tr th {\n        vertical-align: top;\n    }\n\n    .dataframe thead th {\n        text-align: right;\n    }\n</style>\n<table border=\"1\" class=\"dataframe\">\n  <thead>\n    <tr style=\"text-align: right;\">\n      <th></th>\n      <th>measure_id</th>\n      <th>measure_name</th>\n      <th>interval_type</th>\n      <th>value_type</th>\n      <th>year_to_date_variance</th>\n      <th>desired_direction</th>\n      <th>category</th>\n      <th>data_source_notes</th>\n      <th>notes</th>\n      <th>decimal_accuracy</th>\n      <th>city_perspective_note</th>\n      <th>budget_variance</th>\n      <th>measure_value</th>\n    </tr>\n  </thead>\n  <tbody>\n    <tr>\n      <th>170</th>\n      <td>1.130</td>\n      <td>Number of Personal Bankruptcies (Ontario)</td>\n      <td>m</td>\n      <td>n</td>\n      <td>0.05</td>\n      <td>Down</td>\n      <td>Community Vulnerability</td>\n      <td>Source: Industry Canada</td>\n      <td>[November 2020]\\nDecrease in line with nationa...</td>\n      <td>NaN</td>\n      <td>NaN</td>\n      <td>NaN</td>\n      <td>None</td>\n    </tr>\n    <tr>\n      <th>341</th>\n      <td>1.120</td>\n      <td>Number of Business Bankruptcies (Ontario)</td>\n      <td>m</td>\n      <td>n</td>\n      <td>0.05</td>\n      <td>Down</td>\n      <td>Economy</td>\n      <td>Source: Industry Canada</td>\n      <td>[November 2020]\\nDecrease in line with nationa...</td>\n      <td>NaN</td>\n      <td>NaN</td>\n      <td>NaN</td>\n      <td>None</td>\n    </tr>\n    <tr>\n      <th>512</th>\n      <td>1.040</td>\n      <td>Employed City of Toronto Residents (000's)</td>\n      <td>m</td>\n      <td>n</td>\n      <td>0.01</td>\n      <td>Up</td>\n      <td>Economy</td>\n      <td>Seasonally Adjusted 3-month moving average (S...</td>\n      <td>[January 2021]\\nStatistics Canada rebased thei...</td>\n      <td>NaN</td>\n      <td>NaN</td>\n      <td>NaN</td>\n      <td>None</td>\n    </tr>\n    <tr>\n      <th>683</th>\n      <td>1.060</td>\n      <td>Percentage who are Self-Employed (Toronto Resi...</td>\n      <td>m</td>\n      <td>p</td>\n      <td>NaN</td>\n      <td>Up</td>\n      <td>Economy</td>\n      <td>3 month moving average (Source: Statistics Ca...</td>\n      <td>NaN</td>\n      <td>1.0</td>\n      <td>Colour scheme is based on the city 's perspect...</td>\n      <td>NaN</td>\n      <td>None</td>\n    </tr>\n    <tr>\n      <th>854</th>\n      <td>1.020</td>\n      <td>Unemployment Rate (Toronto Residents)</td>\n      <td>m</td>\n      <td>p</td>\n      <td>NaN</td>\n      <td>Down</td>\n      <td>Economy</td>\n      <td>Seasonally Adjusted 3-month moving average (S...</td>\n      <td>NaN</td>\n      <td>1.0</td>\n      <td>NaN</td>\n      <td>NaN</td>\n      <td>None</td>\n    </tr>\n    <tr>\n      <th>...</th>\n      <td>...</td>\n      <td>...</td>\n      <td>...</td>\n      <td>...</td>\n      <td>...</td>\n      <td>...</td>\n      <td>...</td>\n      <td>...</td>\n      <td>...</td>\n      <td>...</td>\n      <td>...</td>\n      <td>...</td>\n      <td>...</td>\n    </tr>\n    <tr>\n      <th>8145</th>\n      <td>2.350</td>\n      <td>Sports and Recreation -Permit Activity - Numbe...</td>\n      <td>s</td>\n      <td>n</td>\n      <td>NaN</td>\n      <td>Up</td>\n      <td>Services</td>\n      <td>Source: City of Toronto, Parks, Forestry &amp; Rec...</td>\n      <td>[Fall 2019]\\nAt Riverlea Greenhouse the number...</td>\n      <td>NaN</td>\n      <td>NaN</td>\n      <td>NaN</td>\n      <td>None</td>\n    </tr>\n    <tr>\n      <th>8197</th>\n      <td>2.380</td>\n      <td>Free Centres – Registered Program Enrolment (#)</td>\n      <td>s</td>\n      <td>n</td>\n      <td>NaN</td>\n      <td>None</td>\n      <td>Services</td>\n      <td>Source: City of Toronto, Parks, Forestry &amp; Rec...</td>\n      <td>NaN</td>\n      <td>NaN</td>\n      <td>NaN</td>\n      <td>NaN</td>\n      <td>None</td>\n    </tr>\n    <tr>\n      <th>8249</th>\n      <td>2.390</td>\n      <td>Free Centres – Drop-in Attendance (#)</td>\n      <td>s</td>\n      <td>n</td>\n      <td>NaN</td>\n      <td>None</td>\n      <td>Services</td>\n      <td>Source: City of Toronto, Parks, Forestry &amp; Rec...</td>\n      <td>NaN</td>\n      <td>NaN</td>\n      <td>NaN</td>\n      <td>NaN</td>\n      <td>None</td>\n    </tr>\n    <tr>\n      <th>8267</th>\n      <td>2.041</td>\n      <td>TTC Annual Passenger Rides Peak (000s)</td>\n      <td>y</td>\n      <td>n</td>\n      <td>NaN</td>\n      <td>Up</td>\n      <td>Services</td>\n      <td>Source: Toronto Transit Commission</td>\n      <td>[Annual 2020]\\nYear-end Note: Ridership for 20...</td>\n      <td>NaN</td>\n      <td>NaN</td>\n      <td>NaN</td>\n      <td>None</td>\n    </tr>\n    <tr>\n      <th>8285</th>\n      <td>2.042</td>\n      <td>TTC Annual Passenger Rides Non-Peak (000s)</td>\n      <td>y</td>\n      <td>n</td>\n      <td>NaN</td>\n      <td>Up</td>\n      <td>Services</td>\n      <td>Source: Toronto Transit Commission</td>\n      <td>[Annual 2020]\\nYear-end Note: Ridership for 20...</td>\n      <td>NaN</td>\n      <td>NaN</td>\n      <td>NaN</td>\n      <td>None</td>\n    </tr>\n  </tbody>\n</table>\n<p>66 rows × 13 columns</p>\n</div>"
     },
     "metadata": {},
     "execution_count": 96
    }
   ],
   "source": [
    "df_measure_wo_vs\n"
   ]
  },
  {
   "cell_type": "code",
   "execution_count": 72,
   "metadata": {},
   "outputs": [],
   "source": [
    "df_target_wo_vs = pd.merge(df_target_wo_measure,df_measure_wo_vs, how='left', on=['measure_id'])"
   ]
  },
  {
   "cell_type": "code",
   "execution_count": 226,
   "metadata": {},
   "outputs": [],
   "source": [
    "# df_target_wo_vs"
   ]
  },
  {
   "cell_type": "code",
   "execution_count": 227,
   "metadata": {},
   "outputs": [],
   "source": [
    "# df_target_wo_vs[df_measure_target.columns]"
   ]
  },
  {
   "cell_type": "code",
   "execution_count": 74,
   "metadata": {},
   "outputs": [],
   "source": [
    "df = pd.concat([df_measure_target, df_target_wo_vs[df_measure_target.columns]])"
   ]
  },
  {
   "cell_type": "code",
   "execution_count": 250,
   "metadata": {},
   "outputs": [],
   "source": [
    "df = df.drop(columns=[\"notes\"])"
   ]
  },
  {
   "cell_type": "code",
   "execution_count": 289,
   "metadata": {},
   "outputs": [
    {
     "output_type": "execute_result",
     "data": {
      "text/plain": [
       "8310"
      ]
     },
     "metadata": {},
     "execution_count": 289
    }
   ],
   "source": [
    "len(df)"
   ]
  },
  {
   "cell_type": "code",
   "execution_count": 281,
   "metadata": {},
   "outputs": [],
   "source": [
    "df_narrative = build_narratives_df(notes)"
   ]
  },
  {
   "cell_type": "code",
   "execution_count": 291,
   "metadata": {},
   "outputs": [
    {
     "output_type": "execute_result",
     "data": {
      "text/plain": [
       "150"
      ]
     },
     "metadata": {},
     "execution_count": 291
    }
   ],
   "source": [
    "len(df_narrative)"
   ]
  },
  {
   "cell_type": "code",
   "execution_count": 283,
   "metadata": {},
   "outputs": [],
   "source": [
    "df_w_note = pd.merge(df,df_narrative, how='left', on=['measure_id', 'year', 'period_number_in_year'])"
   ]
  },
  {
   "cell_type": "code",
   "execution_count": 288,
   "metadata": {},
   "outputs": [
    {
     "output_type": "execute_result",
     "data": {
      "text/plain": [
       "      measure_id  year  period_number_in_year measure_value  target  \\\n",
       "166        1.130  2020                     11         747.0     NaN   \n",
       "337        1.120  2020                     11          36.0     NaN   \n",
       "502        1.040  2020                      5        1273.6     NaN   \n",
       "510        1.040  2021                      1        1350.3     NaN   \n",
       "1362       1.110  2020                     10       86940.0     NaN   \n",
       "...          ...   ...                    ...           ...     ...   \n",
       "8041       2.330  2019                      4     1348565.0     NaN   \n",
       "8144       2.350  2019                      3      733258.0     NaN   \n",
       "8145       2.350  2019                      4      895844.0     NaN   \n",
       "8267       2.041  2020                   2020       96750.0     NaN   \n",
       "8285       2.042  2020                   2020      128249.0     NaN   \n",
       "\n",
       "                                                   note  \n",
       "166   Decrease in line with national trend where Can...  \n",
       "337   Decrease in line with national trend where Can...  \n",
       "502   Province wide emergency orders starting March ...  \n",
       "510   Statistics Canada rebased their figures based ...  \n",
       "1362  The Government of Canada made temporary change...  \n",
       "...                                                 ...  \n",
       "8041  Much of the decrease between 2018 and 2019 Q1 ...  \n",
       "8144  At Riverlea Greenhouse the number of indoor pl...  \n",
       "8145  Much of the increase between 2018 and 2019 Q1 ...  \n",
       "8267  Year-end Note: Ridership for 2020 was negative...  \n",
       "8285  Year-end Note: Ridership for 2020 was negative...  \n",
       "\n",
       "[146 rows x 6 columns]"
      ],
      "text/html": "<div>\n<style scoped>\n    .dataframe tbody tr th:only-of-type {\n        vertical-align: middle;\n    }\n\n    .dataframe tbody tr th {\n        vertical-align: top;\n    }\n\n    .dataframe thead th {\n        text-align: right;\n    }\n</style>\n<table border=\"1\" class=\"dataframe\">\n  <thead>\n    <tr style=\"text-align: right;\">\n      <th></th>\n      <th>measure_id</th>\n      <th>year</th>\n      <th>period_number_in_year</th>\n      <th>measure_value</th>\n      <th>target</th>\n      <th>note</th>\n    </tr>\n  </thead>\n  <tbody>\n    <tr>\n      <th>166</th>\n      <td>1.130</td>\n      <td>2020</td>\n      <td>11</td>\n      <td>747.0</td>\n      <td>NaN</td>\n      <td>Decrease in line with national trend where Can...</td>\n    </tr>\n    <tr>\n      <th>337</th>\n      <td>1.120</td>\n      <td>2020</td>\n      <td>11</td>\n      <td>36.0</td>\n      <td>NaN</td>\n      <td>Decrease in line with national trend where Can...</td>\n    </tr>\n    <tr>\n      <th>502</th>\n      <td>1.040</td>\n      <td>2020</td>\n      <td>5</td>\n      <td>1273.6</td>\n      <td>NaN</td>\n      <td>Province wide emergency orders starting March ...</td>\n    </tr>\n    <tr>\n      <th>510</th>\n      <td>1.040</td>\n      <td>2021</td>\n      <td>1</td>\n      <td>1350.3</td>\n      <td>NaN</td>\n      <td>Statistics Canada rebased their figures based ...</td>\n    </tr>\n    <tr>\n      <th>1362</th>\n      <td>1.110</td>\n      <td>2020</td>\n      <td>10</td>\n      <td>86940.0</td>\n      <td>NaN</td>\n      <td>The Government of Canada made temporary change...</td>\n    </tr>\n    <tr>\n      <th>...</th>\n      <td>...</td>\n      <td>...</td>\n      <td>...</td>\n      <td>...</td>\n      <td>...</td>\n      <td>...</td>\n    </tr>\n    <tr>\n      <th>8041</th>\n      <td>2.330</td>\n      <td>2019</td>\n      <td>4</td>\n      <td>1348565.0</td>\n      <td>NaN</td>\n      <td>Much of the decrease between 2018 and 2019 Q1 ...</td>\n    </tr>\n    <tr>\n      <th>8144</th>\n      <td>2.350</td>\n      <td>2019</td>\n      <td>3</td>\n      <td>733258.0</td>\n      <td>NaN</td>\n      <td>At Riverlea Greenhouse the number of indoor pl...</td>\n    </tr>\n    <tr>\n      <th>8145</th>\n      <td>2.350</td>\n      <td>2019</td>\n      <td>4</td>\n      <td>895844.0</td>\n      <td>NaN</td>\n      <td>Much of the increase between 2018 and 2019 Q1 ...</td>\n    </tr>\n    <tr>\n      <th>8267</th>\n      <td>2.041</td>\n      <td>2020</td>\n      <td>2020</td>\n      <td>96750.0</td>\n      <td>NaN</td>\n      <td>Year-end Note: Ridership for 2020 was negative...</td>\n    </tr>\n    <tr>\n      <th>8285</th>\n      <td>2.042</td>\n      <td>2020</td>\n      <td>2020</td>\n      <td>128249.0</td>\n      <td>NaN</td>\n      <td>Year-end Note: Ridership for 2020 was negative...</td>\n    </tr>\n  </tbody>\n</table>\n<p>146 rows × 6 columns</p>\n</div>"
     },
     "metadata": {},
     "execution_count": 288
    }
   ],
   "source": [
    "df_w_note[['measure_id', 'year', 'period_number_in_year','measure_value', 'target', 'note']][df_w_note['note']==df_w_note['note']]"
   ]
  },
  {
   "cell_type": "code",
   "execution_count": 56,
   "metadata": {},
   "outputs": [
    {
     "output_type": "execute_result",
     "data": {
      "text/plain": [
       "Empty DataFrame\n",
       "Columns: [measure_id, measure_name, interval_type, value_type, measure_value, year_to_date_variance, desired_direction, category, data_source_notes, year, period_number_in_year, notes, decimal_accuracy, city_perspective_note, budget_variance]\n",
       "Index: []"
      ],
      "text/html": "<div>\n<style scoped>\n    .dataframe tbody tr th:only-of-type {\n        vertical-align: middle;\n    }\n\n    .dataframe tbody tr th {\n        vertical-align: top;\n    }\n\n    .dataframe thead th {\n        text-align: right;\n    }\n</style>\n<table border=\"1\" class=\"dataframe\">\n  <thead>\n    <tr style=\"text-align: right;\">\n      <th></th>\n      <th>measure_id</th>\n      <th>measure_name</th>\n      <th>interval_type</th>\n      <th>value_type</th>\n      <th>measure_value</th>\n      <th>year_to_date_variance</th>\n      <th>desired_direction</th>\n      <th>category</th>\n      <th>data_source_notes</th>\n      <th>year</th>\n      <th>period_number_in_year</th>\n      <th>notes</th>\n      <th>decimal_accuracy</th>\n      <th>city_perspective_note</th>\n      <th>budget_variance</th>\n    </tr>\n  </thead>\n  <tbody>\n  </tbody>\n</table>\n</div>"
     },
     "metadata": {},
     "execution_count": 56
    }
   ],
   "source": [
    "#verify some target \n",
    "df_measure[(df_measure['measure_id']==2.12) & (df_measure['year']==2020) & (df_measure['period_number_in_year']==12)]"
   ]
  },
  {
   "cell_type": "code",
   "execution_count": 57,
   "metadata": {},
   "outputs": [],
   "source": [
    "# df_measure_target[(df_measure_target['measure_id']==2.12) & (df_measure_target['year']==2020) & (df_measure_target['period_number_in_year']> 8)]"
   ]
  },
  {
   "cell_type": "code",
   "execution_count": 66,
   "metadata": {},
   "outputs": [],
   "source": [
    "ckan = ckanapi.RemoteCKAN(\n",
    "    address=\"https://ckanadmin0.intra.qa-toronto.ca/\",\n",
    "    apikey='2a38b27f-84e7-4669-87d4-b7a2afda87e3',\n",
    ")"
   ]
  },
  {
   "cell_type": "code",
   "execution_count": 79,
   "metadata": {},
   "outputs": [],
   "source": [
    "# find target package and resource and purge content, otherwise create resource\n",
    "package_name='toronto-progress-portal'\n",
    "res_name='Toronto progress portal - Key metrics'\n",
    "res_id=None\n",
    "\n",
    "try:\n",
    "    package=ckan.action.package_show(id=package_name)\n",
    "    resources=package.pop('resources')\n",
    "    # find datastore resource with same name and delete data\n",
    "    for r1 in resources:\n",
    "        if r1['name']==res_name: # and r1['datastore_active']:\n",
    "            res_id = r1['id']\n",
    "            ckan.action.datastore_delete(id=res_id, filters={}, force=True)\n",
    "            ckan.action.resource_patch(id=res_id, datastore_active=True, is_preview=True)\n",
    "            break\n",
    "except:\n",
    "    print('Error finding package')\n",
    "\n",
    "if not res_id:\n",
    "    try:\n",
    "        r = {'package_id': package['id'], 'format': 'CSV', 'extract_job': 'Python-progress','name': res_name, 'datastore_active': True,'is_preview': True}\n",
    "        res = ckan.action.datastore_create( resource=r, fields=fields, primary_key='measure_id,year,period_number_in_year', force=True)\n",
    "        res_id = res['resource_id']\n",
    "    except:\n",
    "        print('Error creating resource')"
   ]
  },
  {
   "cell_type": "code",
   "execution_count": 82,
   "metadata": {},
   "outputs": [
    {
     "output_type": "execute_result",
     "data": {
      "text/plain": [
       "'12ae3f37-f786-435f-bfec-0914a2b521ef'"
      ]
     },
     "metadata": {},
     "execution_count": 82
    }
   ],
   "source": [
    "res_id"
   ]
  },
  {
   "cell_type": "code",
   "execution_count": 80,
   "metadata": {},
   "outputs": [
    {
     "output_type": "stream",
     "name": "stdout",
     "text": [
      "Try: 0 1000\n",
      "Try: 1000 2000\n",
      "Try: 2000 3000\n",
      "Try: 3000 4000\n",
      "Try: 4000 5000\n",
      "Try: 5000 6000\n",
      "Try: 6000 7000\n",
      "Try: 7000 8000\n",
      "Try: 8000 9000\n",
      "Something is wrong: ['https://ckanadmin0.intra.qa-toronto.ca/api/action/datastore_upsert', 500, '{\"help\": \"https://ckanadmin0.intra.qa-toronto.ca/api/3/action/help_show?name=datastore_upsert\", \"success\": false, \"error\": {\"message\": \"Internal Server Error\", \"__type\": \"Internal Server Error\"}}']\n",
      "Data loading aborted\n"
     ]
    }
   ],
   "source": [
    "i=0\n",
    "while i < len(df):\n",
    "    rec=[ { k:v for k,v in r.items() if (v == v) and (v is not None) } for r in df[i:i+1000].to_dict(orient=\"records\") ]\n",
    "    try:\n",
    "        print('Try:',i,i+1000)\n",
    "        progress_insert=ckan.action.datastore_upsert(id=res_id, records=rec, force=True, method='upsert')\n",
    "    except Exception as e:\n",
    "        print('Something is wrong:', e)\n",
    "        break\n",
    "    i=i+1000\n",
    "\n",
    "if i >= len(df):\n",
    "    print('Data loading completed:', len(df))\n",
    "else:\n",
    "    print('Data loading aborted')"
   ]
  },
  {
   "cell_type": "code",
   "execution_count": null,
   "metadata": {},
   "outputs": [],
   "source": [
    "# data from Pandas DataFrame df\n",
    "with_nans = df.to_dict(orient=\"records\")\n",
    "​\n",
    "# since np.nan != np.nan, can use it to filter. Essentially, knowing that the type is NOT a number doesn't mean both types ARE THE SAME non-number type.\n",
    "​\n",
    "# ALTERNATIVE 1: create new list of records without NaNs using dictionary comprehension\n",
    "without_nans = []\n",
    "for r in with_nans:\n",
    "\tnew_record = { k:v for k,v in r.items() if v == v }\n",
    "    without_nans.append(new_record)\n",
    "    \n",
    "# ALTERNATIVE 2: can take it a step further by combining with list comprehension\n",
    "without_nans = [ { k:v for k,v in r.items() if v == v } for r in with_nans ]\n",
    "​\n",
    "# ALTERNATIVE 3: can put it all in one line\n",
    "without_nans = [ { k:v for k,v in r.items() if v == v } for r in df.to_dict(orient=\"records\") ]"
   ]
  },
  {
   "cell_type": "code",
   "execution_count": 30,
   "metadata": {},
   "outputs": [],
   "source": [
    "# ckan.action.datastore_delete(id=res_id,filters={},force=True)"
   ]
  },
  {
   "cell_type": "code",
   "execution_count": 29,
   "metadata": {},
   "outputs": [],
   "source": [
    "# ckan.action.resource_patch(id=res_id, datastore_active=True, is_preview=True)"
   ]
  },
  {
   "cell_type": "code",
   "execution_count": 244,
   "metadata": {},
   "outputs": [],
   "source": [
    "# "
   ]
  },
  {
   "cell_type": "code",
   "execution_count": 119,
   "metadata": {},
   "outputs": [],
   "source": [
    "# note = \"[January 2021]<br />Statistics Canada rebased their figures based on latest population estimate<br /><br />[May 2020]<br />Province wide emergency orders starting March as a result of COVID-19<br /><br />\"\r\n",
    "# note = note.split('<br /><br />')\r\n",
    "# note = [v.replace(\"<br />\", \"\") for v in notes if len(v)>1 ]"
   ]
  },
  {
   "cell_type": "code",
   "execution_count": 180,
   "metadata": {},
   "outputs": [],
   "source": [
    "import re  "
   ]
  },
  {
   "cell_type": "code",
   "execution_count": 223,
   "metadata": {},
   "outputs": [],
   "source": [
    "def string_to_dict(string, pattern):\n",
    "    regex = re.sub(r'{(.+?)}', r'(?P<_\\1>.+)', pattern)\n",
    "    values = list(re.search(regex, string).groups())\n",
    "    keys = re.findall(r'{(.+?)}', pattern)\n",
    "    _dict = dict(zip(keys, values))\n",
    "    return _dict\n",
    "\n",
    "p_map = {\n",
    "    \"January\": 1,\n",
    "    \"February\":2,\n",
    "    \"March\":3,\n",
    "    \"April\":4,\n",
    "    \"May\":5,\n",
    "    \"June\":6,\n",
    "    \"July\":7,\n",
    "    \"August\":8,\n",
    "    \"September\":9,\n",
    "    \"October\":10,\n",
    "    \"November\":11,\n",
    "    \"December\":12,\n",
    "    \"Spring\":1,\n",
    "    \"Summer\":2,\n",
    "    \"Fall\":3,\n",
    "    \"Winter\":4,\n",
    "}\n",
    "\n",
    "pattern1 = {\"a\":\"^\\[Quarter {period_number_in_year} {year}\\]{note}$\", \"b\":\"\\[Quarter \\d \\d{4}].*\"}\n",
    "pattern2 = {\"a\":\"^\\[Annual {year}\\]{note}$\",\"b\":\"\\[Annual \\d{4}].*\"}\n",
    "pattern3 = {\"a\":\"^\\[{period_number_in_year} {year}\\]{note}$\",\"b\":\"\\[\\w{3,15} \\d{4}].*\"}\n",
    "\n"
   ]
  },
  {
   "cell_type": "code",
   "execution_count": 276,
   "metadata": {
    "tags": []
   },
   "outputs": [
    {
     "output_type": "stream",
     "name": "stdout",
     "text": [
      "note does not match pattern: \nnote does not match pattern: \nnote does not match pattern: \nnote does not match pattern: \nnote does not match pattern: \nnote does not match pattern: \nnote does not match pattern: \nnote does not match pattern: \nnote does not match pattern: \nnote does not match pattern: \nnote does not match pattern: \nnote does not match pattern: \nnote does not match pattern: \nnote does not match pattern: \nnote does not match pattern: \nnote does not match pattern: \nnote does not match pattern: \nnote does not match pattern: \nnote does not match pattern: \nnote does not match pattern: \nnote does not match pattern: \nnote does not match pattern: \nnote does not match pattern: \nnote does not match pattern: \nnote does not match pattern: \nnote does not match pattern: \nnote does not match pattern: \nnote does not match pattern: \nnote does not match pattern: \nnote does not match pattern: \nnote does not match pattern: \nnote does not match pattern: \nnote does not match pattern: \nnote does not match pattern: \nnote does not match pattern: \nnote does not match pattern: \nnote does not match pattern: \nnote does not match pattern: \nnote does not match pattern: \nnote does not match pattern: \nnote does not match pattern: \nnote does not match pattern: \nnote does not match pattern: \nnote does not match pattern: \nnote does not match pattern: \nnote does not match pattern: \nnote does not match pattern: \nnote does not match pattern: \nnote does not match pattern: \n"
     ]
    },
    {
     "output_type": "execute_result",
     "data": {
      "text/plain": [
       "     period_number_in_year  year  \\\n",
       "0                        1  2021   \n",
       "1                        5  2020   \n",
       "2                        4  2019   \n",
       "3                       12  2020   \n",
       "4                       11  2020   \n",
       "..                     ...   ...   \n",
       "145                     12  2020   \n",
       "146                     12  2020   \n",
       "147                     12  2020   \n",
       "148                     12  2020   \n",
       "149                     12  2020   \n",
       "\n",
       "                                                  note  measure_id  \n",
       "0    Statistics Canada rebased their figures based ...       1.040  \n",
       "1    Province wide emergency orders starting March ...       1.040  \n",
       "2    Average Actual Hours at Main Job could fluctua...       1.051  \n",
       "3    Renewed lockdown measures and restrictions shu...       1.070  \n",
       "4    Reduced exports of Machinery/Vehicles/Equipmen...       1.100  \n",
       "..                                                 ...         ...  \n",
       "145  Crime trends in 2020 have been impacted by the...       3.030  \n",
       "146  Crime trends in 2020 have been impacted by the...       3.040  \n",
       "147  Crime trends in 2020 have been impacted by the...       3.050  \n",
       "148  Crime trends in 2020 have been impacted by the...       3.060  \n",
       "149  Crime trends in 2020 have been impacted by the...       3.080  \n",
       "\n",
       "[150 rows x 4 columns]"
      ],
      "text/html": "<div>\n<style scoped>\n    .dataframe tbody tr th:only-of-type {\n        vertical-align: middle;\n    }\n\n    .dataframe tbody tr th {\n        vertical-align: top;\n    }\n\n    .dataframe thead th {\n        text-align: right;\n    }\n</style>\n<table border=\"1\" class=\"dataframe\">\n  <thead>\n    <tr style=\"text-align: right;\">\n      <th></th>\n      <th>period_number_in_year</th>\n      <th>year</th>\n      <th>note</th>\n      <th>measure_id</th>\n    </tr>\n  </thead>\n  <tbody>\n    <tr>\n      <th>0</th>\n      <td>1</td>\n      <td>2021</td>\n      <td>Statistics Canada rebased their figures based ...</td>\n      <td>1.040</td>\n    </tr>\n    <tr>\n      <th>1</th>\n      <td>5</td>\n      <td>2020</td>\n      <td>Province wide emergency orders starting March ...</td>\n      <td>1.040</td>\n    </tr>\n    <tr>\n      <th>2</th>\n      <td>4</td>\n      <td>2019</td>\n      <td>Average Actual Hours at Main Job could fluctua...</td>\n      <td>1.051</td>\n    </tr>\n    <tr>\n      <th>3</th>\n      <td>12</td>\n      <td>2020</td>\n      <td>Renewed lockdown measures and restrictions shu...</td>\n      <td>1.070</td>\n    </tr>\n    <tr>\n      <th>4</th>\n      <td>11</td>\n      <td>2020</td>\n      <td>Reduced exports of Machinery/Vehicles/Equipmen...</td>\n      <td>1.100</td>\n    </tr>\n    <tr>\n      <th>...</th>\n      <td>...</td>\n      <td>...</td>\n      <td>...</td>\n      <td>...</td>\n    </tr>\n    <tr>\n      <th>145</th>\n      <td>12</td>\n      <td>2020</td>\n      <td>Crime trends in 2020 have been impacted by the...</td>\n      <td>3.030</td>\n    </tr>\n    <tr>\n      <th>146</th>\n      <td>12</td>\n      <td>2020</td>\n      <td>Crime trends in 2020 have been impacted by the...</td>\n      <td>3.040</td>\n    </tr>\n    <tr>\n      <th>147</th>\n      <td>12</td>\n      <td>2020</td>\n      <td>Crime trends in 2020 have been impacted by the...</td>\n      <td>3.050</td>\n    </tr>\n    <tr>\n      <th>148</th>\n      <td>12</td>\n      <td>2020</td>\n      <td>Crime trends in 2020 have been impacted by the...</td>\n      <td>3.060</td>\n    </tr>\n    <tr>\n      <th>149</th>\n      <td>12</td>\n      <td>2020</td>\n      <td>Crime trends in 2020 have been impacted by the...</td>\n      <td>3.080</td>\n    </tr>\n  </tbody>\n</table>\n<p>150 rows × 4 columns</p>\n</div>"
     },
     "metadata": {},
     "execution_count": 276
    }
   ],
   "source": [
    "narratives=[]\n",
    "for k,v in notes.items():\n",
    "    if len(v) > 10:\n",
    "        for n in v.split('<br /><br />'):\n",
    "            note = None\n",
    "            nn = n.replace(\"<br />\", \"\").strip()\n",
    "            if re.fullmatch(pattern1[\"b\"], nn, flags=0):\n",
    "                note = string_to_dict(nn,pattern1[\"a\"])\n",
    "            elif re.fullmatch(pattern2[\"b\"], nn, flags=0):\n",
    "                note = string_to_dict(nn,pattern2[\"a\"])\n",
    "                note[\"period_number_in_year\"] = note[\"year\"]\n",
    "            elif re.fullmatch(pattern3[\"b\"], nn, flags=0):\n",
    "                note = string_to_dict(nn,pattern3[\"a\"])\n",
    "                note['period_number_in_year'] = p_map[note['period_number_in_year']]\n",
    "            else:\n",
    "                print(\"note does not match pattern:\", n)\n",
    "            if note:\n",
    "                note[\"year\"] = int(note[\"year\"])\n",
    "                note[\"period_number_in_year\"] = int(note[\"period_number_in_year\"])\n",
    "                note[\"measure_id\"] = float(k)\n",
    "                narratives.append(note)\n",
    "df_narrative=pd.DataFrame(narratives)\n",
    "df_narrative"
   ]
  },
  {
   "cell_type": "code",
   "execution_count": 290,
   "metadata": {},
   "outputs": [
    {
     "output_type": "execute_result",
     "data": {
      "text/plain": [
       "150"
      ]
     },
     "metadata": {},
     "execution_count": 290
    }
   ],
   "source": [
    "len(narratives)"
   ]
  },
  {
   "cell_type": "code",
   "execution_count": 149,
   "metadata": {},
   "outputs": [
    {
     "output_type": "execute_result",
     "data": {
      "text/plain": [
       "{'period_number_in_year': 'January',\n",
       " 'year': '2021',\n",
       " 'note': 'Statistics Canada rebased their figures based on latest population estimate'}"
      ]
     },
     "metadata": {},
     "execution_count": 149
    }
   ],
   "source": [
    "string_to_dict(narrative,pattern2)"
   ]
  },
  {
   "cell_type": "code",
   "execution_count": 266,
   "metadata": {},
   "outputs": [
    {
     "output_type": "execute_result",
     "data": {
      "text/plain": [
       "{'measure_id': 1.13,\n",
       " 'measure_name': 'Number of Personal Bankruptcies (Ontario)',\n",
       " 'interval_type': 'm',\n",
       " 'value_type': 'n',\n",
       " 'measure_value': 2307,\n",
       " 'year_to_date_variance': 0.05,\n",
       " 'desired_direction': 'Down',\n",
       " 'category': 'Community Vulnerability',\n",
       " 'data_source_notes': 'Source: Industry Canada',\n",
       " 'year': 2007,\n",
       " 'period_number_in_year': 1,\n",
       " 'notes': '[November 2020]\\nDecrease in line with national trend where Canada saw a significant decrease in bankruptcies. Government support programs in place.'}"
      ]
     },
     "metadata": {},
     "execution_count": 266
    }
   ],
   "source": [
    "records[0]"
   ]
  }
 ],
 "metadata": {
  "kernelspec": {
   "name": "python372jvsc74a57bd06c97748df67d7663c28fd6ba6790c46b89906412ba0f523cca8cdfdbc5008d42",
   "display_name": "Python 3.7.2 64-bit ('CKAN': conda)"
  },
  "language_info": {
   "codemirror_mode": {
    "name": "ipython",
    "version": 3
   },
   "file_extension": ".py",
   "mimetype": "text/x-python",
   "name": "python",
   "nbconvert_exporter": "python",
   "pygments_lexer": "ipython3",
   "version": "3.7.2"
  }
 },
 "nbformat": 4,
 "nbformat_minor": 4
}