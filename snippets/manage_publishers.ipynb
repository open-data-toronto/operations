{
 "cells": [
  {
   "cell_type": "markdown",
   "metadata": {},
   "source": [
    "# Managing publishers\n",
    "\n",
    "## 1. Context\n",
    "For a number of reasons, including special characters such as `&` and `'`, we store the publishers in CKAN in hex code. This notebook illustrates how to add/modify publishers."
   ]
  },
  {
   "cell_type": "code",
   "execution_count": null,
   "metadata": {},
   "outputs": [],
   "source": [
    "import ckanapi\n",
    "import codecs"
   ]
  },
  {
   "cell_type": "markdown",
   "metadata": {},
   "source": [
    "## 2. Initialize CKAN\n",
    "\n",
    "The `envs` dict is structured in the same manner as the `ckan_credentials_secret` variable in Airflow: what is needed for the RemoteCKAN object."
   ]
  },
  {
   "cell_type": "code",
   "execution_count": null,
   "metadata": {},
   "outputs": [],
   "source": [
    "envs = {\n",
    "    \"dev\": {\n",
    "        \"address\": \"https://ckanadmin0.intra.dev-toronto.ca/\",\n",
    "        \"apikey\": \"\"\n",
    "    },\n",
    "    \"qa\": {\n",
    "        \"address\": \"https://ckanadmin0.intra.qa-toronto.ca/\",\n",
    "        \"apikey\": \"\"\n",
    "    },\n",
    "    \"prod\": {\n",
    "        \"address\": \"https://ckanadmin0.intra.prod-toronto.ca/\",\n",
    "        \"apikey\": \"\"\n",
    "    },\n",
    "}\n",
    "\n",
    "for env, args in envs.items():\n",
    "    envs[env] = ckanapi.RemoteCKAN(**args)\n",
    "    \n",
    "ckan = envs[\"prod\"]"
   ]
  },
  {
   "cell_type": "markdown",
   "metadata": {},
   "source": [
    "## 3. Prep string conversion functions"
   ]
  },
  {
   "cell_type": "code",
   "execution_count": null,
   "metadata": {},
   "outputs": [],
   "source": [
    "def string_to_hex(s):\n",
    "    return codecs.encode(s.encode('utf-8'), 'hex').decode(\"utf-8\")\n",
    "\n",
    "def hex_to_string(s):\n",
    "    return codecs.decode(s, 'hex').decode('utf-8')"
   ]
  },
  {
   "cell_type": "markdown",
   "metadata": {},
   "source": [
    "## 4. Logic for managing publishers\n",
    "\n",
    "We store publishers in CKAN as vocab tags (vocabulary: `owner_division`) to ensure consistency.\n",
    "\n",
    "### How to: add new publisher\n",
    "\n",
    "1. Identify the vocabulary of publishers\n",
    "2. Convert new publisher name to hex string\n",
    "3. Add new tag to publisher vocab\n",
    "\n",
    "### How to: Update existing publisher name\n",
    "\n",
    "1. Identify the vocabulary of publishers\n",
    "2. Convert new publisher name to hex string\n",
    "3. Add new tag to publisher vocab\n",
    "4. Patch packages with old publisher to use new one\n",
    "5. Delete old tag\n",
    "\n",
    "## 5. Example: changing publisher name\n",
    "\n",
    "### 5.1. Identify vocab containing the publishers (name: `owner_division`)"
   ]
  },
  {
   "cell_type": "code",
   "execution_count": null,
   "metadata": {},
   "outputs": [],
   "source": [
    "publisher_vocab = None\n",
    "\n",
    "for v in ckan.action.vocabulary_list():\n",
    "    if v[\"name\"] == \"owner_division\":\n",
    "        publisher_vocab = v\n",
    "        break\n",
    "\n",
    "assert publisher_vocab is not None, \"owner_division vocabulary not found\""
   ]
  },
  {
   "cell_type": "markdown",
   "metadata": {},
   "source": [
    "### 5.2. Get all publishers from vocab\n",
    "\n",
    "Get tags and translate from hex string using utils functions"
   ]
  },
  {
   "cell_type": "code",
   "execution_count": null,
   "metadata": {},
   "outputs": [],
   "source": [
    "encoded_publishers = [ x[\"name\"] for x in publisher_vocab[\"tags\"] ]\n",
    "\n",
    "print(f\"Example encoded publishers: {encoded_publishers[:2]}\")\n",
    "\n",
    "\n",
    "decoded_publishers = [ hex_to_string(x) for x in encoded_publishers ]\n",
    "\n",
    "print(f\"Example decoded publishers: {decoded_publishers[:2]}\")"
   ]
  },
  {
   "cell_type": "markdown",
   "metadata": {},
   "source": [
    "### 5.3. Check if new publisher is already in the list\n",
    "\n",
    "For example:"
   ]
  },
  {
   "cell_type": "code",
   "execution_count": null,
   "metadata": {},
   "outputs": [],
   "source": [
    "new_publisher = \"New publisher name\" # for illustration only\n",
    "\n",
    "assert new_publisher not in decoded_publishers, f\"'{new_publisher}' already in list of publishers\""
   ]
  },
  {
   "cell_type": "markdown",
   "metadata": {},
   "source": [
    "### 5.4. Convert new publisher to hex"
   ]
  },
  {
   "cell_type": "code",
   "execution_count": null,
   "metadata": {},
   "outputs": [],
   "source": [
    "encoded_new_publisher = string_to_hex(new_publisher)\n",
    "\n",
    "print(f\"New publisher: {new_publisher} | Converted publisher: {encoded_new_publisher}\")"
   ]
  },
  {
   "cell_type": "markdown",
   "metadata": {},
   "source": [
    "### 5.5. Create new publisher tag in vocab list"
   ]
  },
  {
   "cell_type": "code",
   "execution_count": null,
   "metadata": {},
   "outputs": [],
   "source": [
    "ckan.action.tag_create(\n",
    "    vocabulary_id = publisher_vocab[\"id\"]\n",
    "    name = encoded_new_publisher\n",
    ")"
   ]
  },
  {
   "cell_type": "markdown",
   "metadata": {},
   "source": [
    "### 5.5. Loop through packages and update division where needed"
   ]
  },
  {
   "cell_type": "code",
   "execution_count": null,
   "metadata": {},
   "outputs": [],
   "source": [
    "previous_publisher = \"Old publisher name\"\n",
    "\n",
    "assert previous_publisher in decoded_publishers, f\"'{previous_publisher}' expected in owner_division vocab but not present\"\n",
    "\n",
    "for p in ckan.action.package_search(rows=100000)[\"results\"]:\n",
    "    if p[\"owner_division\"] == previous_publisher:\n",
    "        \n",
    "        ckan.action.package_patch(\n",
    "            id = p[\"id\"], \n",
    "            owner_division = new_publisher\n",
    "        )\n",
    "        \n",
    "        print(p[\"name\"], \" | \", previous_publisher, \"==>\", new_publisher)"
   ]
  },
  {
   "cell_type": "markdown",
   "metadata": {},
   "source": [
    "### 5.6. Delete old division from vocab"
   ]
  },
  {
   "cell_type": "code",
   "execution_count": null,
   "metadata": {},
   "outputs": [],
   "source": [
    "tag_to_delete = [ t for t in publisher_vocab[\"tags\"] if t[\"name\"] == string_to_hex(previous_publisher) ][0]\n",
    "\n",
    "ckan.action.delete_tag(id=tag_to_delete[\"id\"])"
   ]
  }
 ],
 "metadata": {
  "kernelspec": {
   "display_name": "Python 3",
   "language": "python",
   "name": "python3"
  },
  "language_info": {
   "codemirror_mode": {
    "name": "ipython",
    "version": 3
   },
   "file_extension": ".py",
   "mimetype": "text/x-python",
   "name": "python",
   "nbconvert_exporter": "python",
   "pygments_lexer": "ipython3",
   "version": "3.7.6"
  }
 },
 "nbformat": 4,
 "nbformat_minor": 4
}
