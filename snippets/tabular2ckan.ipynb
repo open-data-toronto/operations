{
 "cells": [
  {
   "cell_type": "code",
   "execution_count": 32,
   "metadata": {},
   "outputs": [],
   "source": [
    "import pandas as pd\n",
    "import requests\n",
    "import ckanapi\n",
    "import math\n",
    "import re\n",
    "import os\n",
    "import json\n",
    "import datetime\n",
    "\n",
    "loading_folder = os.getcwd()\n",
    "setting_file = loading_folder+'\\\\..\\\\setting.json'\n",
    "with open(setting_file) as f:\n",
    "    setting = json.load(f)\n"
   ]
  },
  {
   "cell_type": "code",
   "execution_count": 33,
   "metadata": {},
   "outputs": [],
   "source": [
    "## Genral setting\n",
    "env = 'ckan_qa'         # ckan_qa|ckan_dev|ckan_prod\n",
    "package_name='daily-shelter-occupancy'\n",
    "res_name='DSO 2020'\n",
    "fileType = 'CSV'        # CVS|Excel use first tab if it's excel\n",
    "fileURL = 'https://ckanadmin0.intra.qa-toronto.ca/dataset/17356cdc-c67c-4e69-9611-fabe21e80c48/resource/e72e8a4c-08b1-4885-897b-21b97e02ce60/download/daily-shelter-occupancy-2020.csv.csv'"
   ]
  },
  {
   "cell_type": "code",
   "execution_count": 34,
   "metadata": {},
   "outputs": [],
   "source": [
    "df = pd.read_csv(fileURL,  na_values=['_'])\n"
   ]
  },
  {
   "cell_type": "code",
   "execution_count": 35,
   "metadata": {},
   "outputs": [],
   "source": [
    "fields = []\n",
    "for field, dtype in df.dtypes.iteritems():\n",
    "    ckan_type_map = {\"int64\": \"int\", \"object\": \"text\", \"float64\": \"float\"}\n",
    "    fields.append({\"type\": ckan_type_map[dtype.name], \"id\": field})"
   ]
  },
  {
   "cell_type": "code",
   "execution_count": 37,
   "metadata": {},
   "outputs": [
    {
     "output_type": "stream",
     "name": "stdout",
     "text": [
      "Existing Resource: 95c3f0d7-f1f3-46b4-87cf-ffb1f068d0f3 old records deleted\n"
     ]
    }
   ],
   "source": [
    "ckan_connect = setting[env]\n",
    "ckan = ckanapi.RemoteCKAN(ckan_connect['address'], ckan_connect['apikey'])\n",
    "\n",
    "res_id=None\n",
    "try:\n",
    "    package=ckan.action.package_show(id=package_name)\n",
    "    resources=package.pop('resources')\n",
    "    for r1 in resources:\n",
    "        if r1['name']==res_name: # and r1['datastore_active']:\n",
    "            res_id = r1['id']\n",
    "            ckan.action.datastore_delete(id=res_id, filters={}, force=True)\n",
    "            now = datetime.datetime.now().strftime(\"%Y-%m-%dT%H:%M:%S.%f\")\n",
    "            ckan.action.resource_patch(id=res_id, datastore_active=True, is_preview=True, last_refreshed=now)\n",
    "            ckan.action.package_patch(id=package['id'], last_refreshed=now)\n",
    "            ds=ckan.action.datastore_search(id=res_id, limit=1)\n",
    "            fields=ds['fields'][1:]\n",
    "            print('Existing Resource:', res_id, 'old records deleted')\n",
    "            break\n",
    "except:\n",
    "    print('Error finding package')\n",
    "\n",
    "if not res_id:\n",
    "    try:\n",
    "        r = {'package_id': package['id'], 'format': 'CSV', 'extract_job': 'CSV-CKAN','name': res_name, 'datastore_active': True,'is_preview': True}\n",
    "        res = ckan.action.datastore_create( resource=r, fields=fields, primary_key=None, force=True)\n",
    "        res_id = res['resource_id']\n",
    "        print('Created new resource', res_id)\n",
    "    except:\n",
    "        print('Error creating resource')\n"
   ]
  },
  {
   "cell_type": "code",
   "execution_count": 38,
   "metadata": {},
   "outputs": [
    {
     "output_type": "stream",
     "name": "stdout",
     "text": [
      "Try: 0 1000\n",
      "Try: 1000 2000\n",
      "Try: 2000 3000\n",
      "Try: 3000 4000\n",
      "Try: 4000 5000\n",
      "Try: 5000 6000\n",
      "Try: 6000 7000\n",
      "Try: 7000 8000\n",
      "Try: 8000 9000\n",
      "Try: 9000 10000\n",
      "Try: 10000 11000\n",
      "Try: 11000 12000\n",
      "Try: 12000 13000\n",
      "Try: 13000 14000\n",
      "Try: 14000 15000\n",
      "Try: 15000 16000\n",
      "Try: 16000 17000\n",
      "Try: 17000 18000\n",
      "Try: 18000 19000\n",
      "Try: 19000 20000\n",
      "Try: 20000 21000\n",
      "Try: 21000 22000\n",
      "Try: 22000 23000\n",
      "Try: 23000 24000\n",
      "Try: 24000 25000\n",
      "Try: 25000 26000\n",
      "Try: 26000 27000\n",
      "Try: 27000 28000\n",
      "Try: 28000 29000\n",
      "Try: 29000 30000\n",
      "Try: 30000 31000\n",
      "Try: 31000 32000\n",
      "Try: 32000 33000\n",
      "Try: 33000 34000\n",
      "Try: 34000 35000\n",
      "Try: 35000 36000\n",
      "Try: 36000 37000\n",
      "Try: 37000 38000\n",
      "Try: 38000 39000\n",
      "Try: 39000 40000\n",
      "Try: 40000 41000\n",
      "Try: 41000 42000\n",
      "Data loading completed: 41061\n"
     ]
    }
   ],
   "source": [
    "i=0\n",
    "while i < len(df):\n",
    "    rec=[ { k:v for k,v in r.items() if (v == v) and (v is not None) } for r in df[i:i+1000].to_dict(orient=\"records\") ]\n",
    "    try:\n",
    "        print('Try:',i,i+1000)\n",
    "        progress_insert=ckan.action.datastore_upsert(id=res_id, records=rec, force=True, method='insert')\n",
    "    except Exception as e:\n",
    "        print('Something is wrong:', e)\n",
    "        break\n",
    "    i=i+1000\n",
    "\n",
    "if i >= len(df):\n",
    "    print('Data loading completed:', len(df))\n",
    "else:\n",
    "    print('Data loading aborted')"
   ]
  }
 ],
 "metadata": {
  "kernelspec": {
   "name": "python3",
   "display_name": "Python 3.7.2 64-bit ('CKAN': conda)"
  },
  "language_info": {
   "codemirror_mode": {
    "name": "ipython",
    "version": 3
   },
   "file_extension": ".py",
   "mimetype": "text/x-python",
   "name": "python",
   "nbconvert_exporter": "python",
   "pygments_lexer": "ipython3",
   "version": "3.7.2"
  },
  "interpreter": {
   "hash": "6c97748df67d7663c28fd6ba6790c46b89906412ba0f523cca8cdfdbc5008d42"
  }
 },
 "nbformat": 4,
 "nbformat_minor": 4
}